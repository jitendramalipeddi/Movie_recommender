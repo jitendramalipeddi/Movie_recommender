{
  "nbformat": 4,
  "nbformat_minor": 0,
  "metadata": {
    "colab": {
      "name": "sample anomaly plots.ipynb",
      "provenance": [],
      "authorship_tag": "ABX9TyPZwObPUDW+PTmK1KdIQZa6",
      "include_colab_link": true
    },
    "kernelspec": {
      "name": "python3",
      "display_name": "Python 3"
    },
    "language_info": {
      "name": "python"
    }
  },
  "cells": [
    {
      "cell_type": "markdown",
      "metadata": {
        "id": "view-in-github",
        "colab_type": "text"
      },
      "source": [
        "<a href=\"https://colab.research.google.com/github/jitendramalipeddi/Movie_recommender/blob/master/sample_anomaly_plots.ipynb\" target=\"_parent\"><img src=\"https://colab.research.google.com/assets/colab-badge.svg\" alt=\"Open In Colab\"/></a>"
      ]
    },
    {
      "cell_type": "code",
      "metadata": {
        "id": "WJw8a95tft6v"
      },
      "source": [
        "import matplotlib.pyplot as plt\n",
        "import numpy as np\n",
        "import pandas as pd\n",
        "import tensorflow as tf\n",
        "\n",
        "from sklearn.metrics import accuracy_score, precision_score, recall_score\n",
        "from sklearn.model_selection import train_test_split\n",
        "from tensorflow.keras import layers, losses\n",
        "from tensorflow.keras.datasets import fashion_mnist\n",
        "from tensorflow.keras.models import Model"
      ],
      "execution_count": 1,
      "outputs": []
    },
    {
      "cell_type": "code",
      "metadata": {
        "colab": {
          "base_uri": "https://localhost:8080/",
          "height": 252
        },
        "id": "qTrdI9FVf99Q",
        "outputId": "782c058f-fbd9-4fc4-c20d-0059d8fa8cd2"
      },
      "source": [
        "dataframe = pd.read_csv('http://storage.googleapis.com/download.tensorflow.org/data/ecg.csv', header=None)\n",
        "raw_data = dataframe.values\n",
        "dataframe.head()"
      ],
      "execution_count": 2,
      "outputs": [
        {
          "output_type": "execute_result",
          "data": {
            "text/html": [
              "<div>\n",
              "<style scoped>\n",
              "    .dataframe tbody tr th:only-of-type {\n",
              "        vertical-align: middle;\n",
              "    }\n",
              "\n",
              "    .dataframe tbody tr th {\n",
              "        vertical-align: top;\n",
              "    }\n",
              "\n",
              "    .dataframe thead th {\n",
              "        text-align: right;\n",
              "    }\n",
              "</style>\n",
              "<table border=\"1\" class=\"dataframe\">\n",
              "  <thead>\n",
              "    <tr style=\"text-align: right;\">\n",
              "      <th></th>\n",
              "      <th>0</th>\n",
              "      <th>1</th>\n",
              "      <th>2</th>\n",
              "      <th>3</th>\n",
              "      <th>4</th>\n",
              "      <th>5</th>\n",
              "      <th>6</th>\n",
              "      <th>7</th>\n",
              "      <th>8</th>\n",
              "      <th>9</th>\n",
              "      <th>10</th>\n",
              "      <th>11</th>\n",
              "      <th>12</th>\n",
              "      <th>13</th>\n",
              "      <th>14</th>\n",
              "      <th>15</th>\n",
              "      <th>16</th>\n",
              "      <th>17</th>\n",
              "      <th>18</th>\n",
              "      <th>19</th>\n",
              "      <th>20</th>\n",
              "      <th>21</th>\n",
              "      <th>22</th>\n",
              "      <th>23</th>\n",
              "      <th>24</th>\n",
              "      <th>25</th>\n",
              "      <th>26</th>\n",
              "      <th>27</th>\n",
              "      <th>28</th>\n",
              "      <th>29</th>\n",
              "      <th>30</th>\n",
              "      <th>31</th>\n",
              "      <th>32</th>\n",
              "      <th>33</th>\n",
              "      <th>34</th>\n",
              "      <th>35</th>\n",
              "      <th>36</th>\n",
              "      <th>37</th>\n",
              "      <th>38</th>\n",
              "      <th>39</th>\n",
              "      <th>...</th>\n",
              "      <th>101</th>\n",
              "      <th>102</th>\n",
              "      <th>103</th>\n",
              "      <th>104</th>\n",
              "      <th>105</th>\n",
              "      <th>106</th>\n",
              "      <th>107</th>\n",
              "      <th>108</th>\n",
              "      <th>109</th>\n",
              "      <th>110</th>\n",
              "      <th>111</th>\n",
              "      <th>112</th>\n",
              "      <th>113</th>\n",
              "      <th>114</th>\n",
              "      <th>115</th>\n",
              "      <th>116</th>\n",
              "      <th>117</th>\n",
              "      <th>118</th>\n",
              "      <th>119</th>\n",
              "      <th>120</th>\n",
              "      <th>121</th>\n",
              "      <th>122</th>\n",
              "      <th>123</th>\n",
              "      <th>124</th>\n",
              "      <th>125</th>\n",
              "      <th>126</th>\n",
              "      <th>127</th>\n",
              "      <th>128</th>\n",
              "      <th>129</th>\n",
              "      <th>130</th>\n",
              "      <th>131</th>\n",
              "      <th>132</th>\n",
              "      <th>133</th>\n",
              "      <th>134</th>\n",
              "      <th>135</th>\n",
              "      <th>136</th>\n",
              "      <th>137</th>\n",
              "      <th>138</th>\n",
              "      <th>139</th>\n",
              "      <th>140</th>\n",
              "    </tr>\n",
              "  </thead>\n",
              "  <tbody>\n",
              "    <tr>\n",
              "      <th>0</th>\n",
              "      <td>-0.112522</td>\n",
              "      <td>-2.827204</td>\n",
              "      <td>-3.773897</td>\n",
              "      <td>-4.349751</td>\n",
              "      <td>-4.376041</td>\n",
              "      <td>-3.474986</td>\n",
              "      <td>-2.181408</td>\n",
              "      <td>-1.818287</td>\n",
              "      <td>-1.250522</td>\n",
              "      <td>-0.477492</td>\n",
              "      <td>-0.363808</td>\n",
              "      <td>-0.491957</td>\n",
              "      <td>-0.421855</td>\n",
              "      <td>-0.309201</td>\n",
              "      <td>-0.495939</td>\n",
              "      <td>-0.342119</td>\n",
              "      <td>-0.355336</td>\n",
              "      <td>-0.367913</td>\n",
              "      <td>-0.316503</td>\n",
              "      <td>-0.412374</td>\n",
              "      <td>-0.471672</td>\n",
              "      <td>-0.413458</td>\n",
              "      <td>-0.364617</td>\n",
              "      <td>-0.449298</td>\n",
              "      <td>-0.471419</td>\n",
              "      <td>-0.424777</td>\n",
              "      <td>-0.462517</td>\n",
              "      <td>-0.552472</td>\n",
              "      <td>-0.475375</td>\n",
              "      <td>-0.694200</td>\n",
              "      <td>-0.701868</td>\n",
              "      <td>-0.593812</td>\n",
              "      <td>-0.660684</td>\n",
              "      <td>-0.713831</td>\n",
              "      <td>-0.769807</td>\n",
              "      <td>-0.672282</td>\n",
              "      <td>-0.653676</td>\n",
              "      <td>-0.639406</td>\n",
              "      <td>-0.559302</td>\n",
              "      <td>-0.591670</td>\n",
              "      <td>...</td>\n",
              "      <td>1.258179</td>\n",
              "      <td>1.433789</td>\n",
              "      <td>1.700533</td>\n",
              "      <td>1.999043</td>\n",
              "      <td>2.125341</td>\n",
              "      <td>1.993291</td>\n",
              "      <td>1.932246</td>\n",
              "      <td>1.797437</td>\n",
              "      <td>1.522284</td>\n",
              "      <td>1.251168</td>\n",
              "      <td>0.998730</td>\n",
              "      <td>0.483722</td>\n",
              "      <td>0.023132</td>\n",
              "      <td>-0.194914</td>\n",
              "      <td>-0.220917</td>\n",
              "      <td>-0.243737</td>\n",
              "      <td>-0.254695</td>\n",
              "      <td>-0.291136</td>\n",
              "      <td>-0.256490</td>\n",
              "      <td>-0.227874</td>\n",
              "      <td>-0.322423</td>\n",
              "      <td>-0.289286</td>\n",
              "      <td>-0.318170</td>\n",
              "      <td>-0.363654</td>\n",
              "      <td>-0.393456</td>\n",
              "      <td>-0.266419</td>\n",
              "      <td>-0.256823</td>\n",
              "      <td>-0.288694</td>\n",
              "      <td>-0.162338</td>\n",
              "      <td>0.160348</td>\n",
              "      <td>0.792168</td>\n",
              "      <td>0.933541</td>\n",
              "      <td>0.796958</td>\n",
              "      <td>0.578621</td>\n",
              "      <td>0.257740</td>\n",
              "      <td>0.228077</td>\n",
              "      <td>0.123431</td>\n",
              "      <td>0.925286</td>\n",
              "      <td>0.193137</td>\n",
              "      <td>1.0</td>\n",
              "    </tr>\n",
              "    <tr>\n",
              "      <th>1</th>\n",
              "      <td>-1.100878</td>\n",
              "      <td>-3.996840</td>\n",
              "      <td>-4.285843</td>\n",
              "      <td>-4.506579</td>\n",
              "      <td>-4.022377</td>\n",
              "      <td>-3.234368</td>\n",
              "      <td>-1.566126</td>\n",
              "      <td>-0.992258</td>\n",
              "      <td>-0.754680</td>\n",
              "      <td>0.042321</td>\n",
              "      <td>0.148951</td>\n",
              "      <td>0.183527</td>\n",
              "      <td>0.294876</td>\n",
              "      <td>0.190233</td>\n",
              "      <td>0.235575</td>\n",
              "      <td>0.253487</td>\n",
              "      <td>0.221742</td>\n",
              "      <td>0.050233</td>\n",
              "      <td>0.178042</td>\n",
              "      <td>0.139563</td>\n",
              "      <td>0.046794</td>\n",
              "      <td>0.043007</td>\n",
              "      <td>0.106544</td>\n",
              "      <td>0.012654</td>\n",
              "      <td>0.003995</td>\n",
              "      <td>0.045724</td>\n",
              "      <td>-0.045999</td>\n",
              "      <td>-0.072667</td>\n",
              "      <td>-0.071078</td>\n",
              "      <td>-0.153866</td>\n",
              "      <td>-0.227254</td>\n",
              "      <td>-0.249270</td>\n",
              "      <td>-0.253489</td>\n",
              "      <td>-0.332835</td>\n",
              "      <td>-0.264330</td>\n",
              "      <td>-0.345825</td>\n",
              "      <td>-0.310781</td>\n",
              "      <td>-0.334160</td>\n",
              "      <td>-0.306178</td>\n",
              "      <td>-0.174563</td>\n",
              "      <td>...</td>\n",
              "      <td>1.808428</td>\n",
              "      <td>2.164346</td>\n",
              "      <td>2.070747</td>\n",
              "      <td>1.903614</td>\n",
              "      <td>1.764455</td>\n",
              "      <td>1.507769</td>\n",
              "      <td>1.293428</td>\n",
              "      <td>0.894562</td>\n",
              "      <td>0.578016</td>\n",
              "      <td>0.244343</td>\n",
              "      <td>-0.286443</td>\n",
              "      <td>-0.515881</td>\n",
              "      <td>-0.732707</td>\n",
              "      <td>-0.832465</td>\n",
              "      <td>-0.803318</td>\n",
              "      <td>-0.836252</td>\n",
              "      <td>-0.777865</td>\n",
              "      <td>-0.774753</td>\n",
              "      <td>-0.733404</td>\n",
              "      <td>-0.721386</td>\n",
              "      <td>-0.832095</td>\n",
              "      <td>-0.711982</td>\n",
              "      <td>-0.751867</td>\n",
              "      <td>-0.757720</td>\n",
              "      <td>-0.853120</td>\n",
              "      <td>-0.766988</td>\n",
              "      <td>-0.688161</td>\n",
              "      <td>-0.519923</td>\n",
              "      <td>0.039406</td>\n",
              "      <td>0.560327</td>\n",
              "      <td>0.538356</td>\n",
              "      <td>0.656881</td>\n",
              "      <td>0.787490</td>\n",
              "      <td>0.724046</td>\n",
              "      <td>0.555784</td>\n",
              "      <td>0.476333</td>\n",
              "      <td>0.773820</td>\n",
              "      <td>1.119621</td>\n",
              "      <td>-1.436250</td>\n",
              "      <td>1.0</td>\n",
              "    </tr>\n",
              "    <tr>\n",
              "      <th>2</th>\n",
              "      <td>-0.567088</td>\n",
              "      <td>-2.593450</td>\n",
              "      <td>-3.874230</td>\n",
              "      <td>-4.584095</td>\n",
              "      <td>-4.187449</td>\n",
              "      <td>-3.151462</td>\n",
              "      <td>-1.742940</td>\n",
              "      <td>-1.490658</td>\n",
              "      <td>-1.183580</td>\n",
              "      <td>-0.394229</td>\n",
              "      <td>-0.282897</td>\n",
              "      <td>-0.356926</td>\n",
              "      <td>-0.287297</td>\n",
              "      <td>-0.399489</td>\n",
              "      <td>-0.473244</td>\n",
              "      <td>-0.379048</td>\n",
              "      <td>-0.399039</td>\n",
              "      <td>-0.178594</td>\n",
              "      <td>-0.339522</td>\n",
              "      <td>-0.498447</td>\n",
              "      <td>-0.337251</td>\n",
              "      <td>-0.425480</td>\n",
              "      <td>-0.423952</td>\n",
              "      <td>-0.463170</td>\n",
              "      <td>-0.493253</td>\n",
              "      <td>-0.549749</td>\n",
              "      <td>-0.529831</td>\n",
              "      <td>-0.530935</td>\n",
              "      <td>-0.502365</td>\n",
              "      <td>-0.417368</td>\n",
              "      <td>-0.526346</td>\n",
              "      <td>-0.471005</td>\n",
              "      <td>-0.676784</td>\n",
              "      <td>-0.898612</td>\n",
              "      <td>-0.610571</td>\n",
              "      <td>-0.530164</td>\n",
              "      <td>-0.765674</td>\n",
              "      <td>-0.581937</td>\n",
              "      <td>-0.537848</td>\n",
              "      <td>-0.556386</td>\n",
              "      <td>...</td>\n",
              "      <td>1.810988</td>\n",
              "      <td>2.185398</td>\n",
              "      <td>2.262985</td>\n",
              "      <td>2.052920</td>\n",
              "      <td>1.890488</td>\n",
              "      <td>1.793033</td>\n",
              "      <td>1.564784</td>\n",
              "      <td>1.234619</td>\n",
              "      <td>0.900302</td>\n",
              "      <td>0.551957</td>\n",
              "      <td>0.258222</td>\n",
              "      <td>-0.128587</td>\n",
              "      <td>-0.092585</td>\n",
              "      <td>-0.168606</td>\n",
              "      <td>-0.495989</td>\n",
              "      <td>-0.395034</td>\n",
              "      <td>-0.328238</td>\n",
              "      <td>-0.448138</td>\n",
              "      <td>-0.268230</td>\n",
              "      <td>-0.456415</td>\n",
              "      <td>-0.357867</td>\n",
              "      <td>-0.317508</td>\n",
              "      <td>-0.434112</td>\n",
              "      <td>-0.549203</td>\n",
              "      <td>-0.324615</td>\n",
              "      <td>-0.268082</td>\n",
              "      <td>-0.220384</td>\n",
              "      <td>-0.117429</td>\n",
              "      <td>0.614059</td>\n",
              "      <td>1.284825</td>\n",
              "      <td>0.886073</td>\n",
              "      <td>0.531452</td>\n",
              "      <td>0.311377</td>\n",
              "      <td>-0.021919</td>\n",
              "      <td>-0.713683</td>\n",
              "      <td>-0.532197</td>\n",
              "      <td>0.321097</td>\n",
              "      <td>0.904227</td>\n",
              "      <td>-0.421797</td>\n",
              "      <td>1.0</td>\n",
              "    </tr>\n",
              "    <tr>\n",
              "      <th>3</th>\n",
              "      <td>0.490473</td>\n",
              "      <td>-1.914407</td>\n",
              "      <td>-3.616364</td>\n",
              "      <td>-4.318823</td>\n",
              "      <td>-4.268016</td>\n",
              "      <td>-3.881110</td>\n",
              "      <td>-2.993280</td>\n",
              "      <td>-1.671131</td>\n",
              "      <td>-1.333884</td>\n",
              "      <td>-0.965629</td>\n",
              "      <td>-0.183319</td>\n",
              "      <td>-0.101657</td>\n",
              "      <td>-0.273874</td>\n",
              "      <td>-0.127818</td>\n",
              "      <td>-0.195983</td>\n",
              "      <td>-0.213523</td>\n",
              "      <td>-0.176473</td>\n",
              "      <td>-0.156932</td>\n",
              "      <td>-0.149172</td>\n",
              "      <td>-0.181510</td>\n",
              "      <td>-0.180074</td>\n",
              "      <td>-0.246151</td>\n",
              "      <td>-0.274260</td>\n",
              "      <td>-0.140960</td>\n",
              "      <td>-0.277449</td>\n",
              "      <td>-0.382549</td>\n",
              "      <td>-0.311937</td>\n",
              "      <td>-0.360093</td>\n",
              "      <td>-0.405968</td>\n",
              "      <td>-0.571433</td>\n",
              "      <td>-0.524106</td>\n",
              "      <td>-0.537886</td>\n",
              "      <td>-0.606778</td>\n",
              "      <td>-0.661446</td>\n",
              "      <td>-0.683375</td>\n",
              "      <td>-0.746683</td>\n",
              "      <td>-0.635662</td>\n",
              "      <td>-0.625231</td>\n",
              "      <td>-0.540094</td>\n",
              "      <td>-0.674995</td>\n",
              "      <td>...</td>\n",
              "      <td>1.772155</td>\n",
              "      <td>2.000769</td>\n",
              "      <td>1.925003</td>\n",
              "      <td>1.898426</td>\n",
              "      <td>1.720953</td>\n",
              "      <td>1.501711</td>\n",
              "      <td>1.422492</td>\n",
              "      <td>1.023225</td>\n",
              "      <td>0.776341</td>\n",
              "      <td>0.504426</td>\n",
              "      <td>0.056382</td>\n",
              "      <td>-0.233161</td>\n",
              "      <td>-0.406388</td>\n",
              "      <td>-0.327528</td>\n",
              "      <td>-0.460868</td>\n",
              "      <td>-0.402536</td>\n",
              "      <td>-0.345752</td>\n",
              "      <td>-0.354206</td>\n",
              "      <td>-0.439959</td>\n",
              "      <td>-0.425326</td>\n",
              "      <td>-0.439789</td>\n",
              "      <td>-0.451835</td>\n",
              "      <td>-0.395926</td>\n",
              "      <td>-0.448762</td>\n",
              "      <td>-0.391789</td>\n",
              "      <td>-0.376307</td>\n",
              "      <td>-0.461069</td>\n",
              "      <td>-0.253524</td>\n",
              "      <td>0.213006</td>\n",
              "      <td>0.491173</td>\n",
              "      <td>0.350816</td>\n",
              "      <td>0.499111</td>\n",
              "      <td>0.600345</td>\n",
              "      <td>0.842069</td>\n",
              "      <td>0.952074</td>\n",
              "      <td>0.990133</td>\n",
              "      <td>1.086798</td>\n",
              "      <td>1.403011</td>\n",
              "      <td>-0.383564</td>\n",
              "      <td>1.0</td>\n",
              "    </tr>\n",
              "    <tr>\n",
              "      <th>4</th>\n",
              "      <td>0.800232</td>\n",
              "      <td>-0.874252</td>\n",
              "      <td>-2.384761</td>\n",
              "      <td>-3.973292</td>\n",
              "      <td>-4.338224</td>\n",
              "      <td>-3.802422</td>\n",
              "      <td>-2.534510</td>\n",
              "      <td>-1.783423</td>\n",
              "      <td>-1.594450</td>\n",
              "      <td>-0.753199</td>\n",
              "      <td>-0.298107</td>\n",
              "      <td>-0.428928</td>\n",
              "      <td>-0.491351</td>\n",
              "      <td>-0.361304</td>\n",
              "      <td>-0.339296</td>\n",
              "      <td>-0.324952</td>\n",
              "      <td>-0.290113</td>\n",
              "      <td>-0.363051</td>\n",
              "      <td>-0.525684</td>\n",
              "      <td>-0.597423</td>\n",
              "      <td>-0.575523</td>\n",
              "      <td>-0.567503</td>\n",
              "      <td>-0.504555</td>\n",
              "      <td>-0.618406</td>\n",
              "      <td>-0.682814</td>\n",
              "      <td>-0.743849</td>\n",
              "      <td>-0.815588</td>\n",
              "      <td>-0.826902</td>\n",
              "      <td>-0.782374</td>\n",
              "      <td>-0.929462</td>\n",
              "      <td>-0.999672</td>\n",
              "      <td>-1.060969</td>\n",
              "      <td>-1.007877</td>\n",
              "      <td>-1.028735</td>\n",
              "      <td>-1.122629</td>\n",
              "      <td>-1.028650</td>\n",
              "      <td>-1.046515</td>\n",
              "      <td>-1.063372</td>\n",
              "      <td>-1.122423</td>\n",
              "      <td>-0.983242</td>\n",
              "      <td>...</td>\n",
              "      <td>1.155363</td>\n",
              "      <td>1.336254</td>\n",
              "      <td>1.627534</td>\n",
              "      <td>1.717594</td>\n",
              "      <td>1.696487</td>\n",
              "      <td>1.741686</td>\n",
              "      <td>1.674078</td>\n",
              "      <td>1.546928</td>\n",
              "      <td>1.331738</td>\n",
              "      <td>1.110168</td>\n",
              "      <td>0.922210</td>\n",
              "      <td>0.521777</td>\n",
              "      <td>0.154852</td>\n",
              "      <td>-0.123861</td>\n",
              "      <td>-0.202998</td>\n",
              "      <td>-0.247956</td>\n",
              "      <td>-0.219122</td>\n",
              "      <td>-0.214695</td>\n",
              "      <td>-0.319215</td>\n",
              "      <td>-0.198597</td>\n",
              "      <td>-0.151618</td>\n",
              "      <td>-0.129593</td>\n",
              "      <td>-0.074939</td>\n",
              "      <td>-0.196807</td>\n",
              "      <td>-0.174795</td>\n",
              "      <td>-0.208833</td>\n",
              "      <td>-0.210754</td>\n",
              "      <td>-0.100485</td>\n",
              "      <td>0.197446</td>\n",
              "      <td>0.966606</td>\n",
              "      <td>1.148884</td>\n",
              "      <td>0.958434</td>\n",
              "      <td>1.059025</td>\n",
              "      <td>1.371682</td>\n",
              "      <td>1.277392</td>\n",
              "      <td>0.960304</td>\n",
              "      <td>0.971020</td>\n",
              "      <td>1.614392</td>\n",
              "      <td>1.421456</td>\n",
              "      <td>1.0</td>\n",
              "    </tr>\n",
              "  </tbody>\n",
              "</table>\n",
              "<p>5 rows × 141 columns</p>\n",
              "</div>"
            ],
            "text/plain": [
              "        0         1         2         3    ...       137       138       139  140\n",
              "0 -0.112522 -2.827204 -3.773897 -4.349751  ...  0.123431  0.925286  0.193137  1.0\n",
              "1 -1.100878 -3.996840 -4.285843 -4.506579  ...  0.773820  1.119621 -1.436250  1.0\n",
              "2 -0.567088 -2.593450 -3.874230 -4.584095  ...  0.321097  0.904227 -0.421797  1.0\n",
              "3  0.490473 -1.914407 -3.616364 -4.318823  ...  1.086798  1.403011 -0.383564  1.0\n",
              "4  0.800232 -0.874252 -2.384761 -3.973292  ...  0.971020  1.614392  1.421456  1.0\n",
              "\n",
              "[5 rows x 141 columns]"
            ]
          },
          "metadata": {
            "tags": []
          },
          "execution_count": 2
        }
      ]
    },
    {
      "cell_type": "code",
      "metadata": {
        "id": "TO49zdeZgBpI"
      },
      "source": [
        "labels = raw_data[:, -1]\n",
        "\n",
        "# The other data points are the electrocadriogram data\n",
        "data = raw_data[:, 0:-1]\n",
        "\n",
        "train_data, test_data, train_labels, test_labels = train_test_split(\n",
        "    data, labels, test_size=0.2, random_state=21\n",
        ")"
      ],
      "execution_count": 5,
      "outputs": []
    },
    {
      "cell_type": "code",
      "metadata": {
        "id": "DWcX4b4VgGb3"
      },
      "source": [
        "min_val = tf.reduce_min(train_data)\n",
        "max_val = tf.reduce_max(train_data)\n",
        "\n",
        "train_data = (train_data - min_val) / (max_val - min_val)\n",
        "test_data = (test_data - min_val) / (max_val - min_val)\n",
        "\n",
        "train_data = tf.cast(train_data, tf.float32)\n",
        "test_data = tf.cast(test_data, tf.float32)"
      ],
      "execution_count": 7,
      "outputs": []
    },
    {
      "cell_type": "code",
      "metadata": {
        "colab": {
          "base_uri": "https://localhost:8080/"
        },
        "id": "g3fHMk1ZgKJP",
        "outputId": "b27c9e7f-3f3d-48ba-aa92-fc84a691c645"
      },
      "source": [
        "train_data.shape"
      ],
      "execution_count": 9,
      "outputs": [
        {
          "output_type": "execute_result",
          "data": {
            "text/plain": [
              "TensorShape([3998, 140])"
            ]
          },
          "metadata": {
            "tags": []
          },
          "execution_count": 9
        }
      ]
    },
    {
      "cell_type": "code",
      "metadata": {
        "id": "9PGxX2KfgRsa"
      },
      "source": [
        "train_labels = train_labels.astype(bool)\n",
        "test_labels = test_labels.astype(bool)\n",
        "\n",
        "normal_train_data = train_data[train_labels]\n",
        "normal_test_data = test_data[test_labels]\n",
        "\n",
        "anomalous_train_data = train_data[~train_labels]\n",
        "anomalous_test_data = test_data[~test_labels]"
      ],
      "execution_count": 10,
      "outputs": []
    },
    {
      "cell_type": "code",
      "metadata": {
        "colab": {
          "base_uri": "https://localhost:8080/"
        },
        "id": "Uy7ZgsNNgeK3",
        "outputId": "e7508bc6-0684-4ac0-bbb5-83443100b692"
      },
      "source": [
        "normal_train_data.shape"
      ],
      "execution_count": 12,
      "outputs": [
        {
          "output_type": "execute_result",
          "data": {
            "text/plain": [
              "TensorShape([2359, 140])"
            ]
          },
          "metadata": {
            "tags": []
          },
          "execution_count": 12
        }
      ]
    },
    {
      "cell_type": "code",
      "metadata": {
        "colab": {
          "base_uri": "https://localhost:8080/",
          "height": 281
        },
        "id": "HGoTEof-gW_2",
        "outputId": "a6b41516-ee77-40f5-e832-f1e03846dfd3"
      },
      "source": [
        "plt.grid()\n",
        "plt.plot(np.arange(140), normal_train_data[50])\n",
        "plt.title(\"A Normal ECG\")\n",
        "plt.show()"
      ],
      "execution_count": 14,
      "outputs": [
        {
          "output_type": "display_data",
          "data": {
            "image/png": "[encoded data removed]",
            "text/plain": [
              "<Figure size 432x288 with 1 Axes>"
            ]
          },
          "metadata": {
            "tags": [],
            "needs_background": "light"
          }
        }
      ]
    },
    {
      "cell_type": "code",
      "metadata": {
        "colab": {
          "base_uri": "https://localhost:8080/",
          "height": 281
        },
        "id": "fbV4RNfpgaJy",
        "outputId": "13bffca7-0143-41a1-8012-b59558a829ba"
      },
      "source": [
        "plt.grid()\n",
        "plt.plot(np.arange(140), anomalous_train_data[30])\n",
        "plt.title(\"An Anomalous ECG\")\n",
        "plt.show()"
      ],
      "execution_count": 16,
      "outputs": [
        {
          "output_type": "display_data",
          "data": {
            "image/png": "[encoded data removed]",
            "text/plain": [
              "<Figure size 432x288 with 1 Axes>"
            ]
          },
          "metadata": {
            "tags": [],
            "needs_background": "light"
          }
        }
      ]
    },
    {
      "cell_type": "code",
      "metadata": {
        "id": "Khws-n9lgoJX"
      },
      "source": [
        "class AnomalyDetector(Model):\n",
        "  def __init__(self):\n",
        "    super(AnomalyDetector, self).__init__()\n",
        "    self.encoder = tf.keras.Sequential([\n",
        "      layers.Dense(32, activation=\"relu\"),\n",
        "      layers.Dense(16, activation=\"relu\"),\n",
        "      layers.Dense(8, activation=\"relu\")])\n",
        "    \n",
        "    self.decoder = tf.keras.Sequential([\n",
        "      layers.Dense(16, activation=\"relu\"),\n",
        "      layers.Dense(32, activation=\"relu\"),\n",
        "      layers.Dense(140, activation=\"sigmoid\")])\n",
        "    \n",
        "  def call(self, x):\n",
        "    encoded = self.encoder(x)\n",
        "    decoded = self.decoder(encoded)\n",
        "    return decoded\n",
        "\n",
        "autoencoder = AnomalyDetector()"
      ],
      "execution_count": 17,
      "outputs": []
    },
    {
      "cell_type": "code",
      "metadata": {
        "id": "BPHLZQO8gvGV"
      },
      "source": [
        "autoencoder.compile(optimizer='adam', loss='mae')"
      ],
      "execution_count": 18,
      "outputs": []
    },
    {
      "cell_type": "code",
      "metadata": {
        "colab": {
          "base_uri": "https://localhost:8080/"
        },
        "id": "MAiALhzJgwxZ",
        "outputId": "becdc944-b7d1-4a9a-8fe6-d47e6337d8c0"
      },
      "source": [
        "history = autoencoder.fit(normal_train_data, normal_train_data, \n",
        "          epochs=20, \n",
        "          batch_size=512,\n",
        "          validation_data=(test_data, test_data),\n",
        "          shuffle=True)"
      ],
      "execution_count": 19,
      "outputs": [
        {
          "output_type": "stream",
          "text": [
            "Epoch 1/20\n",
            "5/5 [==============================] - 1s 58ms/step - loss: 0.0581 - val_loss: 0.0534\n",
            "Epoch 2/20\n",
            "5/5 [==============================] - 0s 12ms/step - loss: 0.0562 - val_loss: 0.0518\n",
            "Epoch 3/20\n",
            "5/5 [==============================] - 0s 12ms/step - loss: 0.0536 - val_loss: 0.0498\n",
            "Epoch 4/20\n",
            "5/5 [==============================] - 0s 11ms/step - loss: 0.0500 - val_loss: 0.0485\n",
            "Epoch 5/20\n",
            "5/5 [==============================] - 0s 12ms/step - loss: 0.0462 - val_loss: 0.0464\n",
            "Epoch 6/20\n",
            "5/5 [==============================] - 0s 11ms/step - loss: 0.0422 - val_loss: 0.0439\n",
            "Epoch 7/20\n",
            "5/5 [==============================] - 0s 12ms/step - loss: 0.0387 - val_loss: 0.0425\n",
            "Epoch 8/20\n",
            "5/5 [==============================] - 0s 14ms/step - loss: 0.0357 - val_loss: 0.0411\n",
            "Epoch 9/20\n",
            "5/5 [==============================] - 0s 13ms/step - loss: 0.0330 - val_loss: 0.0401\n",
            "Epoch 10/20\n",
            "5/5 [==============================] - 0s 13ms/step - loss: 0.0307 - val_loss: 0.0392\n",
            "Epoch 11/20\n",
            "5/5 [==============================] - 0s 13ms/step - loss: 0.0287 - val_loss: 0.0382\n",
            "Epoch 12/20\n",
            "5/5 [==============================] - 0s 12ms/step - loss: 0.0272 - val_loss: 0.0376\n",
            "Epoch 13/20\n",
            "5/5 [==============================] - 0s 12ms/step - loss: 0.0262 - val_loss: 0.0368\n",
            "Epoch 14/20\n",
            "5/5 [==============================] - 0s 15ms/step - loss: 0.0254 - val_loss: 0.0361\n",
            "Epoch 15/20\n",
            "5/5 [==============================] - 0s 13ms/step - loss: 0.0247 - val_loss: 0.0355\n",
            "Epoch 16/20\n",
            "5/5 [==============================] - 0s 13ms/step - loss: 0.0239 - val_loss: 0.0348\n",
            "Epoch 17/20\n",
            "5/5 [==============================] - 0s 12ms/step - loss: 0.0232 - val_loss: 0.0343\n",
            "Epoch 18/20\n",
            "5/5 [==============================] - 0s 14ms/step - loss: 0.0225 - val_loss: 0.0336\n",
            "Epoch 19/20\n",
            "5/5 [==============================] - 0s 13ms/step - loss: 0.0218 - val_loss: 0.0332\n",
            "Epoch 20/20\n",
            "5/5 [==============================] - 0s 12ms/step - loss: 0.0213 - val_loss: 0.0328\n"
          ],
          "name": "stdout"
        }
      ]
    },
    {
      "cell_type": "code",
      "metadata": {
        "colab": {
          "base_uri": "https://localhost:8080/",
          "height": 282
        },
        "id": "XXbfmkA_gzdP",
        "outputId": "f7481479-3d75-41dd-9e22-41af005dfe85"
      },
      "source": [
        "plt.plot(history.history[\"loss\"], label=\"Training Loss\")\n",
        "plt.plot(history.history[\"val_loss\"], label=\"Validation Loss\")\n",
        "plt.legend()"
      ],
      "execution_count": 20,
      "outputs": [
        {
          "output_type": "execute_result",
          "data": {
            "text/plain": [
              "<matplotlib.legend.Legend at 0x7f4f210b96d0>"
            ]
          },
          "metadata": {
            "tags": []
          },
          "execution_count": 20
        },
        {
          "output_type": "display_data",
          "data": {
            "image/png": "[encoded data removed]",
            "text/plain": [
              "<Figure size 432x288 with 1 Axes>"
            ]
          },
          "metadata": {
            "tags": [],
            "needs_background": "light"
          }
        }
      ]
    },
    {
      "cell_type": "code",
      "metadata": {
        "colab": {
          "base_uri": "https://localhost:8080/",
          "height": 265
        },
        "id": "ZIxq1N5Eg2Qd",
        "outputId": "83e3fea9-b7e7-46b3-9174-36c94ea2107b"
      },
      "source": [
        "encoded_imgs = autoencoder.encoder(normal_test_data).numpy()\n",
        "decoded_imgs = autoencoder.decoder(encoded_imgs).numpy()\n",
        "\n",
        "plt.plot(normal_test_data[50],'b')\n",
        "plt.plot(decoded_imgs[50],'r')\n",
        "plt.fill_between(np.arange(140), decoded_imgs[50], normal_test_data[50], color='lightcoral' )\n",
        "plt.legend(labels=[\"Input\", \"Reconstruction\", \"Error\"])\n",
        "plt.show()"
      ],
      "execution_count": 23,
      "outputs": [
        {
          "output_type": "display_data",
          "data": {
            "image/png": "[encoded data removed]",
            "text/plain": [
              "<Figure size 432x288 with 1 Axes>"
            ]
          },
          "metadata": {
            "tags": [],
            "needs_background": "light"
          }
        }
      ]
    },
    {
      "cell_type": "code",
      "metadata": {
        "colab": {
          "base_uri": "https://localhost:8080/",
          "height": 268
        },
        "id": "ynrWfdvZg6Rs",
        "outputId": "2352cdbe-e42b-4ef0-fb44-fec54dbce84e"
      },
      "source": [
        "encoded_imgs = autoencoder.encoder(anomalous_test_data).numpy()\n",
        "decoded_imgs = autoencoder.decoder(encoded_imgs).numpy()\n",
        "\n",
        "plt.plot(anomalous_test_data[10],'b')\n",
        "plt.plot(decoded_imgs[10],'r')\n",
        "plt.fill_between(np.arange(140), decoded_imgs[10], anomalous_test_data[10], color='lightcoral' )\n",
        "plt.legend(labels=[\"Input\", \"Reconstruction\", \"Error\"])\n",
        "plt.show()"
      ],
      "execution_count": 26,
      "outputs": [
        {
          "output_type": "display_data",
          "data": {
            "image/png": "[encoded data removed]",
            "text/plain": [
              "<Figure size 432x288 with 1 Axes>"
            ]
          },
          "metadata": {
            "tags": [],
            "needs_background": "light"
          }
        }
      ]
    },
    {
      "cell_type": "code",
      "metadata": {
        "colab": {
          "base_uri": "https://localhost:8080/",
          "height": 279
        },
        "id": "abnXCgIEhFZ9",
        "outputId": "f5142922-e694-4b87-d442-9583eef71a35"
      },
      "source": [
        "reconstructions = autoencoder.predict(normal_train_data)\n",
        "train_loss = tf.keras.losses.mae(reconstructions, normal_train_data)\n",
        "\n",
        "plt.hist(train_loss, bins=50)\n",
        "plt.xlabel(\"Train loss\")\n",
        "plt.ylabel(\"No of examples\")\n",
        "plt.show()"
      ],
      "execution_count": 32,
      "outputs": [
        {
          "output_type": "display_data",
          "data": {
            "image/png": "[encoded data removed]",
            "text/plain": [
              "<Figure size 432x288 with 1 Axes>"
            ]
          },
          "metadata": {
            "tags": [],
            "needs_background": "light"
          }
        }
      ]
    },
    {
      "cell_type": "code",
      "metadata": {
        "colab": {
          "base_uri": "https://localhost:8080/"
        },
        "id": "uvY56SxDhP4v",
        "outputId": "0c689e1e-9526-40c7-ab8b-9c4a923ed826"
      },
      "source": [
        "threshold = np.mean(train_loss) + np.std(train_loss)\n",
        "print(\"Threshold: \", threshold)"
      ],
      "execution_count": 33,
      "outputs": [
        {
          "output_type": "stream",
          "text": [
            "Threshold:  0.03251373\n"
          ],
          "name": "stdout"
        }
      ]
    },
    {
      "cell_type": "code",
      "metadata": {
        "id": "h2Ptoy0phUA6"
      },
      "source": [
        ""
      ],
      "execution_count": null,
      "outputs": []
    }
  ]
}