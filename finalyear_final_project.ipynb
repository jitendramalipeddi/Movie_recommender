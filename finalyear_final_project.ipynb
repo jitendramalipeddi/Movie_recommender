{
  "nbformat": 4,
  "nbformat_minor": 0,
  "metadata": {
    "colab": {
      "name": "finalyear final project.ipynb",
      "provenance": [],
      "authorship_tag": "ABX9TyNn6GGM81HrXnX1maEeAt1w",
      "include_colab_link": true
    },
    "kernelspec": {
      "name": "python3",
      "display_name": "Python 3"
    },
    "language_info": {
      "name": "python"
    }
  },
  "cells": [
    {
      "cell_type": "markdown",
      "metadata": {
        "id": "view-in-github",
        "colab_type": "text"
      },
      "source": [
        "<a href=\"https://colab.research.google.com/github/jitendramalipeddi/Movie_recommender/blob/master/finalyear_final_project.ipynb\" target=\"_parent\"><img src=\"https://colab.research.google.com/assets/colab-badge.svg\" alt=\"Open In Colab\"/></a>"
      ]
    },
    {
      "cell_type": "code",
      "metadata": {
        "colab": {
          "base_uri": "https://localhost:8080/"
        },
        "id": "JQuI4Gm_GbOj",
        "outputId": "00adc0c2-2785-4843-e1a9-c945ce9fae9c"
      },
      "source": [
        "from google.colab import drive\n",
        "drive.mount('/content/drive')"
      ],
      "execution_count": 1,
      "outputs": [
        {
          "output_type": "stream",
          "text": [
            "Mounted at /content/drive\n"
          ],
          "name": "stdout"
        }
      ]
    },
    {
      "cell_type": "code",
      "metadata": {
        "colab": {
          "base_uri": "https://localhost:8080/"
        },
        "id": "0mtzroV3G-7S",
        "outputId": "1027daa6-f525-4d76-f5b7-e1c4454467b5"
      },
      "source": [
        "cd /content/drive/MyDrive/ECG"
      ],
      "execution_count": 2,
      "outputs": [
        {
          "output_type": "stream",
          "text": [
            "/content/drive/MyDrive/ECG\n"
          ],
          "name": "stdout"
        }
      ]
    },
    {
      "cell_type": "code",
      "metadata": {
        "colab": {
          "base_uri": "https://localhost:8080/"
        },
        "id": "T7NBaHv6HWK1",
        "outputId": "b5c6ec4b-a0e1-4895-b0f2-ccc1196fa03a"
      },
      "source": [
        "!wget \"https://physionet.org/static/published-projects/mitdb/mit-bih-arrhythmia-database-1.0.0.zip\""
      ],
      "execution_count": 3,
      "outputs": [
        {
          "output_type": "stream",
          "text": [
            "--2021-07-17 06:19:21--  https://physionet.org/static/published-projects/mitdb/mit-bih-arrhythmia-database-1.0.0.zip\n",
            "Resolving physionet.org (physionet.org)... 18.18.42.54\n",
            "Connecting to physionet.org (physionet.org)|18.18.42.54|:443... connected.\n",
            "HTTP request sent, awaiting response... 200 OK\n",
            "Length: 77030320 (73M) [application/zip]\n",
            "Saving to: ‘mit-bih-arrhythmia-database-1.0.0.zip’\n",
            "\n",
            "mit-bih-arrhythmia- 100%[===================>]  73.46M  14.7MB/s    in 6.5s    \n",
            "\n",
            "2021-07-17 06:19:29 (11.4 MB/s) - ‘mit-bih-arrhythmia-database-1.0.0.zip’ saved [77030320/77030320]\n",
            "\n"
          ],
          "name": "stdout"
        }
      ]
    },
    {
      "cell_type": "code",
      "metadata": {
        "colab": {
          "base_uri": "https://localhost:8080/"
        },
        "id": "qavksyUSHoeq",
        "outputId": "a6c00dec-7466-4fb6-d10f-f882f975293a"
      },
      "source": [
        "!ls"
      ],
      "execution_count": 4,
      "outputs": [
        {
          "output_type": "stream",
          "text": [
            "mit-bih-arrhythmia-database-1.0.0.zip\n"
          ],
          "name": "stdout"
        }
      ]
    },
    {
      "cell_type": "code",
      "metadata": {
        "colab": {
          "base_uri": "https://localhost:8080/"
        },
        "id": "gWBeVyafHseW",
        "outputId": "87acad10-6333-41aa-898a-18e7c0ce6087"
      },
      "source": [
        "!unzip /content/drive/MyDrive/ECG/mit-bih-arrhythmia-database-1.0.0.zip"
      ],
      "execution_count": 5,
      "outputs": [
        {
          "output_type": "stream",
          "text": [
            "Archive:  /content/drive/MyDrive/ECG/mit-bih-arrhythmia-database-1.0.0.zip\n",
            "  inflating: mit-bih-arrhythmia-database-1.0.0/100.atr  \n",
            "  inflating: mit-bih-arrhythmia-database-1.0.0/100.dat  \n",
            "  inflating: mit-bih-arrhythmia-database-1.0.0/100.hea  \n",
            "  inflating: mit-bih-arrhythmia-database-1.0.0/100.xws  \n",
            "  inflating: mit-bih-arrhythmia-database-1.0.0/101.atr  \n",
            "  inflating: mit-bih-arrhythmia-database-1.0.0/101.dat  \n",
            "  inflating: mit-bih-arrhythmia-database-1.0.0/101.hea  \n",
            "  inflating: mit-bih-arrhythmia-database-1.0.0/101.xws  \n",
            "  inflating: mit-bih-arrhythmia-database-1.0.0/102-0.atr  \n",
            "  inflating: mit-bih-arrhythmia-database-1.0.0/102.atr  \n",
            "  inflating: mit-bih-arrhythmia-database-1.0.0/102.dat  \n",
            "  inflating: mit-bih-arrhythmia-database-1.0.0/102.hea  \n",
            "  inflating: mit-bih-arrhythmia-database-1.0.0/102.xws  \n",
            "  inflating: mit-bih-arrhythmia-database-1.0.0/103.atr  \n",
            "  inflating: mit-bih-arrhythmia-database-1.0.0/103.dat  \n",
            "  inflating: mit-bih-arrhythmia-database-1.0.0/103.hea  \n",
            "  inflating: mit-bih-arrhythmia-database-1.0.0/103.xws  \n",
            "  inflating: mit-bih-arrhythmia-database-1.0.0/104.atr  \n",
            "  inflating: mit-bih-arrhythmia-database-1.0.0/104.dat  \n",
            "  inflating: mit-bih-arrhythmia-database-1.0.0/104.hea  \n",
            "  inflating: mit-bih-arrhythmia-database-1.0.0/104.xws  \n",
            "  inflating: mit-bih-arrhythmia-database-1.0.0/105.atr  \n",
            "  inflating: mit-bih-arrhythmia-database-1.0.0/105.dat  \n",
            "  inflating: mit-bih-arrhythmia-database-1.0.0/105.hea  \n",
            "  inflating: mit-bih-arrhythmia-database-1.0.0/105.xws  \n",
            "  inflating: mit-bih-arrhythmia-database-1.0.0/106.atr  \n",
            "  inflating: mit-bih-arrhythmia-database-1.0.0/106.dat  \n",
            "  inflating: mit-bih-arrhythmia-database-1.0.0/106.hea  \n",
            "  inflating: mit-bih-arrhythmia-database-1.0.0/106.xws  \n",
            "  inflating: mit-bih-arrhythmia-database-1.0.0/107.atr  \n",
            "  inflating: mit-bih-arrhythmia-database-1.0.0/107.dat  \n",
            "  inflating: mit-bih-arrhythmia-database-1.0.0/107.hea  \n",
            "  inflating: mit-bih-arrhythmia-database-1.0.0/107.xws  \n",
            "  inflating: mit-bih-arrhythmia-database-1.0.0/108.at_  \n",
            "  inflating: mit-bih-arrhythmia-database-1.0.0/108.atr  \n",
            "  inflating: mit-bih-arrhythmia-database-1.0.0/108.dat  \n",
            "  inflating: mit-bih-arrhythmia-database-1.0.0/108.hea  \n",
            "  inflating: mit-bih-arrhythmia-database-1.0.0/108.xws  \n",
            "  inflating: mit-bih-arrhythmia-database-1.0.0/109.atr  \n",
            "  inflating: mit-bih-arrhythmia-database-1.0.0/109.dat  \n",
            "  inflating: mit-bih-arrhythmia-database-1.0.0/109.hea  \n",
            "  inflating: mit-bih-arrhythmia-database-1.0.0/109.xws  \n",
            "  inflating: mit-bih-arrhythmia-database-1.0.0/111.atr  \n",
            "  inflating: mit-bih-arrhythmia-database-1.0.0/111.dat  \n",
            "  inflating: mit-bih-arrhythmia-database-1.0.0/111.hea  \n",
            "  inflating: mit-bih-arrhythmia-database-1.0.0/111.xws  \n",
            "  inflating: mit-bih-arrhythmia-database-1.0.0/112.atr  \n",
            "  inflating: mit-bih-arrhythmia-database-1.0.0/112.dat  \n",
            "  inflating: mit-bih-arrhythmia-database-1.0.0/112.hea  \n",
            "  inflating: mit-bih-arrhythmia-database-1.0.0/112.xws  \n",
            "  inflating: mit-bih-arrhythmia-database-1.0.0/113.atr  \n",
            "  inflating: mit-bih-arrhythmia-database-1.0.0/113.dat  \n",
            "  inflating: mit-bih-arrhythmia-database-1.0.0/113.hea  \n",
            "  inflating: mit-bih-arrhythmia-database-1.0.0/113.xws  \n",
            "  inflating: mit-bih-arrhythmia-database-1.0.0/114.atr  \n",
            "  inflating: mit-bih-arrhythmia-database-1.0.0/114.dat  \n",
            "  inflating: mit-bih-arrhythmia-database-1.0.0/114.hea  \n",
            "  inflating: mit-bih-arrhythmia-database-1.0.0/114.xws  \n",
            "  inflating: mit-bih-arrhythmia-database-1.0.0/115.atr  \n",
            "  inflating: mit-bih-arrhythmia-database-1.0.0/115.dat  \n",
            "  inflating: mit-bih-arrhythmia-database-1.0.0/115.hea  \n",
            "  inflating: mit-bih-arrhythmia-database-1.0.0/115.xws  \n",
            "  inflating: mit-bih-arrhythmia-database-1.0.0/116.atr  \n",
            "  inflating: mit-bih-arrhythmia-database-1.0.0/116.dat  \n",
            "  inflating: mit-bih-arrhythmia-database-1.0.0/116.hea  \n",
            "  inflating: mit-bih-arrhythmia-database-1.0.0/116.xws  \n",
            "  inflating: mit-bih-arrhythmia-database-1.0.0/117.at_  \n",
            "  inflating: mit-bih-arrhythmia-database-1.0.0/117.atr  \n",
            "  inflating: mit-bih-arrhythmia-database-1.0.0/117.dat  \n",
            "  inflating: mit-bih-arrhythmia-database-1.0.0/117.hea  \n",
            "  inflating: mit-bih-arrhythmia-database-1.0.0/117.xws  \n",
            "  inflating: mit-bih-arrhythmia-database-1.0.0/118.atr  \n",
            "  inflating: mit-bih-arrhythmia-database-1.0.0/118.dat  \n",
            "  inflating: mit-bih-arrhythmia-database-1.0.0/118.hea  \n",
            "  inflating: mit-bih-arrhythmia-database-1.0.0/118.xws  \n",
            "  inflating: mit-bih-arrhythmia-database-1.0.0/119.at_  \n",
            "  inflating: mit-bih-arrhythmia-database-1.0.0/119.atr  \n",
            "  inflating: mit-bih-arrhythmia-database-1.0.0/119.dat  \n",
            "  inflating: mit-bih-arrhythmia-database-1.0.0/119.hea  \n",
            "  inflating: mit-bih-arrhythmia-database-1.0.0/119.xws  \n",
            "  inflating: mit-bih-arrhythmia-database-1.0.0/121.atr  \n",
            "  inflating: mit-bih-arrhythmia-database-1.0.0/121.dat  \n",
            "  inflating: mit-bih-arrhythmia-database-1.0.0/121.hea  \n",
            "  inflating: mit-bih-arrhythmia-database-1.0.0/121.xws  \n",
            "  inflating: mit-bih-arrhythmia-database-1.0.0/122.atr  \n",
            "  inflating: mit-bih-arrhythmia-database-1.0.0/122.dat  \n",
            "  inflating: mit-bih-arrhythmia-database-1.0.0/122.hea  \n",
            "  inflating: mit-bih-arrhythmia-database-1.0.0/122.xws  \n",
            "  inflating: mit-bih-arrhythmia-database-1.0.0/123.atr  \n",
            "  inflating: mit-bih-arrhythmia-database-1.0.0/123.dat  \n",
            "  inflating: mit-bih-arrhythmia-database-1.0.0/123.hea  \n",
            "  inflating: mit-bih-arrhythmia-database-1.0.0/123.xws  \n",
            "  inflating: mit-bih-arrhythmia-database-1.0.0/124.atr  \n",
            "  inflating: mit-bih-arrhythmia-database-1.0.0/124.dat  \n",
            "  inflating: mit-bih-arrhythmia-database-1.0.0/124.hea  \n",
            "  inflating: mit-bih-arrhythmia-database-1.0.0/124.xws  \n",
            "  inflating: mit-bih-arrhythmia-database-1.0.0/200.atr  \n",
            "  inflating: mit-bih-arrhythmia-database-1.0.0/200.dat  \n",
            "  inflating: mit-bih-arrhythmia-database-1.0.0/200.hea  \n",
            "  inflating: mit-bih-arrhythmia-database-1.0.0/200.xws  \n",
            "  inflating: mit-bih-arrhythmia-database-1.0.0/201.atr  \n",
            "  inflating: mit-bih-arrhythmia-database-1.0.0/201.dat  \n",
            "  inflating: mit-bih-arrhythmia-database-1.0.0/201.hea  \n",
            "  inflating: mit-bih-arrhythmia-database-1.0.0/201.xws  \n",
            "  inflating: mit-bih-arrhythmia-database-1.0.0/202.atr  \n",
            "  inflating: mit-bih-arrhythmia-database-1.0.0/202.dat  \n",
            "  inflating: mit-bih-arrhythmia-database-1.0.0/202.hea  \n",
            "  inflating: mit-bih-arrhythmia-database-1.0.0/202.xws  \n",
            "  inflating: mit-bih-arrhythmia-database-1.0.0/203.at-  \n",
            "  inflating: mit-bih-arrhythmia-database-1.0.0/203.at_  \n",
            "  inflating: mit-bih-arrhythmia-database-1.0.0/203.atr  \n",
            "  inflating: mit-bih-arrhythmia-database-1.0.0/203.dat  \n",
            "  inflating: mit-bih-arrhythmia-database-1.0.0/203.hea  \n",
            "  inflating: mit-bih-arrhythmia-database-1.0.0/203.xws  \n",
            "  inflating: mit-bih-arrhythmia-database-1.0.0/205.atr  \n",
            "  inflating: mit-bih-arrhythmia-database-1.0.0/205.dat  \n",
            "  inflating: mit-bih-arrhythmia-database-1.0.0/205.hea  \n",
            "  inflating: mit-bih-arrhythmia-database-1.0.0/205.xws  \n",
            "  inflating: mit-bih-arrhythmia-database-1.0.0/207.atr  \n",
            "  inflating: mit-bih-arrhythmia-database-1.0.0/207.dat  \n",
            "  inflating: mit-bih-arrhythmia-database-1.0.0/207.hea  \n",
            "  inflating: mit-bih-arrhythmia-database-1.0.0/207.xws  \n",
            "  inflating: mit-bih-arrhythmia-database-1.0.0/208.atr  \n",
            "  inflating: mit-bih-arrhythmia-database-1.0.0/208.dat  \n",
            "  inflating: mit-bih-arrhythmia-database-1.0.0/208.hea  \n",
            "  inflating: mit-bih-arrhythmia-database-1.0.0/208.xws  \n",
            "  inflating: mit-bih-arrhythmia-database-1.0.0/209.at_  \n",
            "  inflating: mit-bih-arrhythmia-database-1.0.0/209.atr  \n",
            "  inflating: mit-bih-arrhythmia-database-1.0.0/209.dat  \n",
            "  inflating: mit-bih-arrhythmia-database-1.0.0/209.hea  \n",
            "  inflating: mit-bih-arrhythmia-database-1.0.0/209.xws  \n",
            "  inflating: mit-bih-arrhythmia-database-1.0.0/210.atr  \n",
            "  inflating: mit-bih-arrhythmia-database-1.0.0/210.dat  \n",
            "  inflating: mit-bih-arrhythmia-database-1.0.0/210.hea  \n",
            "  inflating: mit-bih-arrhythmia-database-1.0.0/210.xws  \n",
            "  inflating: mit-bih-arrhythmia-database-1.0.0/212.atr  \n",
            "  inflating: mit-bih-arrhythmia-database-1.0.0/212.dat  \n",
            "  inflating: mit-bih-arrhythmia-database-1.0.0/212.hea  \n",
            "  inflating: mit-bih-arrhythmia-database-1.0.0/212.xws  \n",
            "  inflating: mit-bih-arrhythmia-database-1.0.0/213.atr  \n",
            "  inflating: mit-bih-arrhythmia-database-1.0.0/213.dat  \n",
            "  inflating: mit-bih-arrhythmia-database-1.0.0/213.hea  \n",
            "  inflating: mit-bih-arrhythmia-database-1.0.0/213.xws  \n",
            "  inflating: mit-bih-arrhythmia-database-1.0.0/214.at_  \n",
            "  inflating: mit-bih-arrhythmia-database-1.0.0/214.atr  \n",
            "  inflating: mit-bih-arrhythmia-database-1.0.0/214.dat  \n",
            "  inflating: mit-bih-arrhythmia-database-1.0.0/214.hea  \n",
            "  inflating: mit-bih-arrhythmia-database-1.0.0/214.xws  \n",
            "  inflating: mit-bih-arrhythmia-database-1.0.0/215.at_  \n",
            "  inflating: mit-bih-arrhythmia-database-1.0.0/215.atr  \n",
            "  inflating: mit-bih-arrhythmia-database-1.0.0/215.dat  \n",
            "  inflating: mit-bih-arrhythmia-database-1.0.0/215.hea  \n",
            "  inflating: mit-bih-arrhythmia-database-1.0.0/215.xws  \n",
            "  inflating: mit-bih-arrhythmia-database-1.0.0/217.atr  \n",
            "  inflating: mit-bih-arrhythmia-database-1.0.0/217.dat  \n",
            "  inflating: mit-bih-arrhythmia-database-1.0.0/217.hea  \n",
            "  inflating: mit-bih-arrhythmia-database-1.0.0/217.xws  \n",
            "  inflating: mit-bih-arrhythmia-database-1.0.0/219.atr  \n",
            "  inflating: mit-bih-arrhythmia-database-1.0.0/219.dat  \n",
            "  inflating: mit-bih-arrhythmia-database-1.0.0/219.hea  \n",
            "  inflating: mit-bih-arrhythmia-database-1.0.0/219.xws  \n",
            "  inflating: mit-bih-arrhythmia-database-1.0.0/220.atr  \n",
            "  inflating: mit-bih-arrhythmia-database-1.0.0/220.dat  \n",
            "  inflating: mit-bih-arrhythmia-database-1.0.0/220.hea  \n",
            "  inflating: mit-bih-arrhythmia-database-1.0.0/220.xws  \n",
            "  inflating: mit-bih-arrhythmia-database-1.0.0/221.atr  \n",
            "  inflating: mit-bih-arrhythmia-database-1.0.0/221.dat  \n",
            "  inflating: mit-bih-arrhythmia-database-1.0.0/221.hea  \n",
            "  inflating: mit-bih-arrhythmia-database-1.0.0/221.xws  \n",
            "  inflating: mit-bih-arrhythmia-database-1.0.0/222.at_  \n",
            "  inflating: mit-bih-arrhythmia-database-1.0.0/222.atr  \n",
            "  inflating: mit-bih-arrhythmia-database-1.0.0/222.dat  \n",
            "  inflating: mit-bih-arrhythmia-database-1.0.0/222.hea  \n",
            "  inflating: mit-bih-arrhythmia-database-1.0.0/222.xws  \n",
            "  inflating: mit-bih-arrhythmia-database-1.0.0/223.atr  \n",
            "  inflating: mit-bih-arrhythmia-database-1.0.0/223.dat  \n",
            "  inflating: mit-bih-arrhythmia-database-1.0.0/223.hea  \n",
            "  inflating: mit-bih-arrhythmia-database-1.0.0/223.xws  \n",
            "  inflating: mit-bih-arrhythmia-database-1.0.0/228.atr  \n",
            "  inflating: mit-bih-arrhythmia-database-1.0.0/228.dat  \n",
            "  inflating: mit-bih-arrhythmia-database-1.0.0/228.hea  \n",
            "  inflating: mit-bih-arrhythmia-database-1.0.0/228.xws  \n",
            "  inflating: mit-bih-arrhythmia-database-1.0.0/230.atr  \n",
            "  inflating: mit-bih-arrhythmia-database-1.0.0/230.dat  \n",
            "  inflating: mit-bih-arrhythmia-database-1.0.0/230.hea  \n",
            "  inflating: mit-bih-arrhythmia-database-1.0.0/230.xws  \n",
            "  inflating: mit-bih-arrhythmia-database-1.0.0/231.atr  \n",
            "  inflating: mit-bih-arrhythmia-database-1.0.0/231.dat  \n",
            "  inflating: mit-bih-arrhythmia-database-1.0.0/231.hea  \n",
            "  inflating: mit-bih-arrhythmia-database-1.0.0/231.xws  \n",
            "  inflating: mit-bih-arrhythmia-database-1.0.0/232.atr  \n",
            "  inflating: mit-bih-arrhythmia-database-1.0.0/232.dat  \n",
            "  inflating: mit-bih-arrhythmia-database-1.0.0/232.hea  \n",
            "  inflating: mit-bih-arrhythmia-database-1.0.0/232.xws  \n",
            "  inflating: mit-bih-arrhythmia-database-1.0.0/233.atr  \n",
            "  inflating: mit-bih-arrhythmia-database-1.0.0/233.dat  \n",
            "  inflating: mit-bih-arrhythmia-database-1.0.0/233.hea  \n",
            "  inflating: mit-bih-arrhythmia-database-1.0.0/233.xws  \n",
            "  inflating: mit-bih-arrhythmia-database-1.0.0/234.atr  \n",
            "  inflating: mit-bih-arrhythmia-database-1.0.0/234.dat  \n",
            "  inflating: mit-bih-arrhythmia-database-1.0.0/234.hea  \n",
            "  inflating: mit-bih-arrhythmia-database-1.0.0/234.xws  \n",
            " extracting: mit-bih-arrhythmia-database-1.0.0/ANNOTATORS  \n",
            "  inflating: mit-bih-arrhythmia-database-1.0.0/RECORDS  \n",
            "  inflating: mit-bih-arrhythmia-database-1.0.0/SHA256SUMS.txt  \n",
            "  inflating: mit-bih-arrhythmia-database-1.0.0/mitdbdir/foreword.htm  \n",
            "  inflating: mit-bih-arrhythmia-database-1.0.0/mitdbdir/intro.htm  \n",
            "  inflating: mit-bih-arrhythmia-database-1.0.0/mitdbdir/mitdbdir.htm  \n",
            "  inflating: mit-bih-arrhythmia-database-1.0.0/mitdbdir/records.htm  \n",
            " extracting: mit-bih-arrhythmia-database-1.0.0/mitdbdir/samples/1001103.xws  \n",
            " extracting: mit-bih-arrhythmia-database-1.0.0/mitdbdir/samples/1002513.xws  \n",
            " extracting: mit-bih-arrhythmia-database-1.0.0/mitdbdir/samples/1002609.xws  \n",
            " extracting: mit-bih-arrhythmia-database-1.0.0/mitdbdir/samples/1002755.xws  \n",
            " extracting: mit-bih-arrhythmia-database-1.0.0/mitdbdir/samples/1010134.xws  \n",
            " extracting: mit-bih-arrhythmia-database-1.0.0/mitdbdir/samples/1010148.xws  \n",
            " extracting: mit-bih-arrhythmia-database-1.0.0/mitdbdir/samples/1010513.xws  \n",
            " extracting: mit-bih-arrhythmia-database-1.0.0/mitdbdir/samples/1010954.xws  \n",
            " extracting: mit-bih-arrhythmia-database-1.0.0/mitdbdir/samples/1012432.xws  \n",
            " extracting: mit-bih-arrhythmia-database-1.0.0/mitdbdir/samples/1020055.xws  \n",
            " extracting: mit-bih-arrhythmia-database-1.0.0/mitdbdir/samples/1020112.xws  \n",
            " extracting: mit-bih-arrhythmia-database-1.0.0/mitdbdir/samples/1020128.xws  \n",
            " extracting: mit-bih-arrhythmia-database-1.0.0/mitdbdir/samples/1020230.xws  \n",
            " extracting: mit-bih-arrhythmia-database-1.0.0/mitdbdir/samples/1020451.xws  \n",
            " extracting: mit-bih-arrhythmia-database-1.0.0/mitdbdir/samples/1020935.xws  \n",
            " extracting: mit-bih-arrhythmia-database-1.0.0/mitdbdir/samples/1021612.xws  \n",
            " extracting: mit-bih-arrhythmia-database-1.0.0/mitdbdir/samples/1030109.xws  \n",
            " extracting: mit-bih-arrhythmia-database-1.0.0/mitdbdir/samples/1031721.xws  \n",
            " extracting: mit-bih-arrhythmia-database-1.0.0/mitdbdir/samples/1031915.xws  \n",
            " extracting: mit-bih-arrhythmia-database-1.0.0/mitdbdir/samples/1032213.xws  \n",
            " extracting: mit-bih-arrhythmia-database-1.0.0/mitdbdir/samples/1032333.xws  \n",
            " extracting: mit-bih-arrhythmia-database-1.0.0/mitdbdir/samples/1032858.xws  \n",
            " extracting: mit-bih-arrhythmia-database-1.0.0/mitdbdir/samples/1040342.xws  \n",
            " extracting: mit-bih-arrhythmia-database-1.0.0/mitdbdir/samples/1040513.xws  \n",
            " extracting: mit-bih-arrhythmia-database-1.0.0/mitdbdir/samples/1040552.xws  \n",
            " extracting: mit-bih-arrhythmia-database-1.0.0/mitdbdir/samples/1040617.xws  \n",
            " extracting: mit-bih-arrhythmia-database-1.0.0/mitdbdir/samples/1040822.xws  \n",
            " extracting: mit-bih-arrhythmia-database-1.0.0/mitdbdir/samples/1042651.xws  \n",
            " extracting: mit-bih-arrhythmia-database-1.0.0/mitdbdir/samples/1042910.xws  \n",
            " extracting: mit-bih-arrhythmia-database-1.0.0/mitdbdir/samples/1050527.xws  \n",
            " extracting: mit-bih-arrhythmia-database-1.0.0/mitdbdir/samples/1050757.xws  \n",
            " extracting: mit-bih-arrhythmia-database-1.0.0/mitdbdir/samples/1051516.xws  \n",
            " extracting: mit-bih-arrhythmia-database-1.0.0/mitdbdir/samples/1051752.xws  \n",
            " extracting: mit-bih-arrhythmia-database-1.0.0/mitdbdir/samples/1052202.xws  \n",
            " extracting: mit-bih-arrhythmia-database-1.0.0/mitdbdir/samples/1052645.xws  \n",
            " extracting: mit-bih-arrhythmia-database-1.0.0/mitdbdir/samples/1052727.xws  \n",
            " extracting: mit-bih-arrhythmia-database-1.0.0/mitdbdir/samples/1052808.xws  \n",
            " extracting: mit-bih-arrhythmia-database-1.0.0/mitdbdir/samples/1052907.xws  \n",
            " extracting: mit-bih-arrhythmia-database-1.0.0/mitdbdir/samples/1060019.xws  \n",
            " extracting: mit-bih-arrhythmia-database-1.0.0/mitdbdir/samples/1060137.xws  \n",
            " extracting: mit-bih-arrhythmia-database-1.0.0/mitdbdir/samples/1060253.xws  \n",
            " extracting: mit-bih-arrhythmia-database-1.0.0/mitdbdir/samples/1060423.xws  \n",
            " extracting: mit-bih-arrhythmia-database-1.0.0/mitdbdir/samples/1060757.xws  \n",
            " extracting: mit-bih-arrhythmia-database-1.0.0/mitdbdir/samples/1061052.xws  \n",
            " extracting: mit-bih-arrhythmia-database-1.0.0/mitdbdir/samples/1061227.xws  \n",
            " extracting: mit-bih-arrhythmia-database-1.0.0/mitdbdir/samples/1061617.xws  \n",
            " extracting: mit-bih-arrhythmia-database-1.0.0/mitdbdir/samples/1062513.xws  \n",
            " extracting: mit-bih-arrhythmia-database-1.0.0/mitdbdir/samples/1062552.xws  \n",
            " extracting: mit-bih-arrhythmia-database-1.0.0/mitdbdir/samples/1070044.xws  \n",
            " extracting: mit-bih-arrhythmia-database-1.0.0/mitdbdir/samples/1071230.xws  \n",
            " extracting: mit-bih-arrhythmia-database-1.0.0/mitdbdir/samples/1071954.xws  \n",
            " extracting: mit-bih-arrhythmia-database-1.0.0/mitdbdir/samples/1072038.xws  \n",
            " extracting: mit-bih-arrhythmia-database-1.0.0/mitdbdir/samples/1072552.xws  \n",
            " extracting: mit-bih-arrhythmia-database-1.0.0/mitdbdir/samples/1080022.xws  \n",
            " extracting: mit-bih-arrhythmia-database-1.0.0/mitdbdir/samples/1080451.xws  \n",
            " extracting: mit-bih-arrhythmia-database-1.0.0/mitdbdir/samples/1080741.xws  \n",
            " extracting: mit-bih-arrhythmia-database-1.0.0/mitdbdir/samples/1080813.xws  \n",
            " extracting: mit-bih-arrhythmia-database-1.0.0/mitdbdir/samples/1081055.xws  \n",
            "  inflating: mit-bih-arrhythmia-database-1.0.0/mitdbdir/samples/1081808.xws  \n",
            " extracting: mit-bih-arrhythmia-database-1.0.0/mitdbdir/samples/1082005.xws  \n",
            " extracting: mit-bih-arrhythmia-database-1.0.0/mitdbdir/samples/1082420.xws  \n",
            " extracting: mit-bih-arrhythmia-database-1.0.0/mitdbdir/samples/1082810.xws  \n",
            " extracting: mit-bih-arrhythmia-database-1.0.0/mitdbdir/samples/1082900.xws  \n",
            " extracting: mit-bih-arrhythmia-database-1.0.0/mitdbdir/samples/1090013.xws  \n",
            " extracting: mit-bih-arrhythmia-database-1.0.0/mitdbdir/samples/1090128.xws  \n",
            " extracting: mit-bih-arrhythmia-database-1.0.0/mitdbdir/samples/1090336.xws  \n",
            " extracting: mit-bih-arrhythmia-database-1.0.0/mitdbdir/samples/1090446.xws  \n",
            " extracting: mit-bih-arrhythmia-database-1.0.0/mitdbdir/samples/1090527.xws  \n",
            " extracting: mit-bih-arrhythmia-database-1.0.0/mitdbdir/samples/1091401.xws  \n",
            " extracting: mit-bih-arrhythmia-database-1.0.0/mitdbdir/samples/1091713.xws  \n",
            " extracting: mit-bih-arrhythmia-database-1.0.0/mitdbdir/samples/1091921.xws  \n",
            "  inflating: mit-bih-arrhythmia-database-1.0.0/mitdbdir/samples/1092609.xws  \n",
            " extracting: mit-bih-arrhythmia-database-1.0.0/mitdbdir/samples/1092803.xws  \n",
            " extracting: mit-bih-arrhythmia-database-1.0.0/mitdbdir/samples/1092828.xws  \n",
            " extracting: mit-bih-arrhythmia-database-1.0.0/mitdbdir/samples/1092910.xws  \n",
            " extracting: mit-bih-arrhythmia-database-1.0.0/mitdbdir/samples/1110025.xws  \n",
            " extracting: mit-bih-arrhythmia-database-1.0.0/mitdbdir/samples/1110241.xws  \n",
            " extracting: mit-bih-arrhythmia-database-1.0.0/mitdbdir/samples/1110352.xws  \n",
            " extracting: mit-bih-arrhythmia-database-1.0.0/mitdbdir/samples/1110404.xws  \n",
            " extracting: mit-bih-arrhythmia-database-1.0.0/mitdbdir/samples/1110831.xws  \n",
            " extracting: mit-bih-arrhythmia-database-1.0.0/mitdbdir/samples/1111153.xws  \n",
            " extracting: mit-bih-arrhythmia-database-1.0.0/mitdbdir/samples/1111541.xws  \n",
            " extracting: mit-bih-arrhythmia-database-1.0.0/mitdbdir/samples/1111954.xws  \n",
            " extracting: mit-bih-arrhythmia-database-1.0.0/mitdbdir/samples/1112702.xws  \n",
            " extracting: mit-bih-arrhythmia-database-1.0.0/mitdbdir/samples/1121140.xws  \n",
            " extracting: mit-bih-arrhythmia-database-1.0.0/mitdbdir/samples/1121230.xws  \n",
            " extracting: mit-bih-arrhythmia-database-1.0.0/mitdbdir/samples/1121249.xws  \n",
            " extracting: mit-bih-arrhythmia-database-1.0.0/mitdbdir/samples/1130420.xws  \n",
            " extracting: mit-bih-arrhythmia-database-1.0.0/mitdbdir/samples/1130822.xws  \n",
            " extracting: mit-bih-arrhythmia-database-1.0.0/mitdbdir/samples/1131148.xws  \n",
            " extracting: mit-bih-arrhythmia-database-1.0.0/mitdbdir/samples/1131227.xws  \n",
            " extracting: mit-bih-arrhythmia-database-1.0.0/mitdbdir/samples/1132210.xws  \n",
            " extracting: mit-bih-arrhythmia-database-1.0.0/mitdbdir/samples/1132901.xws  \n",
            " extracting: mit-bih-arrhythmia-database-1.0.0/mitdbdir/samples/1140000.xws  \n",
            " extracting: mit-bih-arrhythmia-database-1.0.0/mitdbdir/samples/1140120.xws  \n",
            " extracting: mit-bih-arrhythmia-database-1.0.0/mitdbdir/samples/1140339.xws  \n",
            " extracting: mit-bih-arrhythmia-database-1.0.0/mitdbdir/samples/1140356.xws  \n",
            " extracting: mit-bih-arrhythmia-database-1.0.0/mitdbdir/samples/1140435.xws  \n",
            " extracting: mit-bih-arrhythmia-database-1.0.0/mitdbdir/samples/1140536.xws  \n",
            " extracting: mit-bih-arrhythmia-database-1.0.0/mitdbdir/samples/1140831.xws  \n",
            " extracting: mit-bih-arrhythmia-database-1.0.0/mitdbdir/samples/1140926.xws  \n",
            " extracting: mit-bih-arrhythmia-database-1.0.0/mitdbdir/samples/1141137.xws  \n",
            " extracting: mit-bih-arrhythmia-database-1.0.0/mitdbdir/samples/1142002.xws  \n",
            " extracting: mit-bih-arrhythmia-database-1.0.0/mitdbdir/samples/1142929.xws  \n",
            " extracting: mit-bih-arrhythmia-database-1.0.0/mitdbdir/samples/1150055.xws  \n",
            " extracting: mit-bih-arrhythmia-database-1.0.0/mitdbdir/samples/1150322.xws  \n",
            " extracting: mit-bih-arrhythmia-database-1.0.0/mitdbdir/samples/1151552.xws  \n",
            " extracting: mit-bih-arrhythmia-database-1.0.0/mitdbdir/samples/1152128.xws  \n",
            " extracting: mit-bih-arrhythmia-database-1.0.0/mitdbdir/samples/1152705.xws  \n",
            " extracting: mit-bih-arrhythmia-database-1.0.0/mitdbdir/samples/1152842.xws  \n",
            " extracting: mit-bih-arrhythmia-database-1.0.0/mitdbdir/samples/1160044.xws  \n",
            " extracting: mit-bih-arrhythmia-database-1.0.0/mitdbdir/samples/1160131.xws  \n",
            " extracting: mit-bih-arrhythmia-database-1.0.0/mitdbdir/samples/1161000.xws  \n",
            " extracting: mit-bih-arrhythmia-database-1.0.0/mitdbdir/samples/1161232.xws  \n",
            " extracting: mit-bih-arrhythmia-database-1.0.0/mitdbdir/samples/1161637.xws  \n",
            " extracting: mit-bih-arrhythmia-database-1.0.0/mitdbdir/samples/1162308.xws  \n",
            " extracting: mit-bih-arrhythmia-database-1.0.0/mitdbdir/samples/1162547.xws  \n",
            " extracting: mit-bih-arrhythmia-database-1.0.0/mitdbdir/samples/1170356.xws  \n",
            " extracting: mit-bih-arrhythmia-database-1.0.0/mitdbdir/samples/1171158.xws  \n",
            " extracting: mit-bih-arrhythmia-database-1.0.0/mitdbdir/samples/1172227.xws  \n",
            " extracting: mit-bih-arrhythmia-database-1.0.0/mitdbdir/samples/1180339.xws  \n",
            " extracting: mit-bih-arrhythmia-database-1.0.0/mitdbdir/samples/1180831.xws  \n",
            " extracting: mit-bih-arrhythmia-database-1.0.0/mitdbdir/samples/1180923.xws  \n",
            " extracting: mit-bih-arrhythmia-database-1.0.0/mitdbdir/samples/1181347.xws  \n",
            " extracting: mit-bih-arrhythmia-database-1.0.0/mitdbdir/samples/1182232.xws  \n",
            " extracting: mit-bih-arrhythmia-database-1.0.0/mitdbdir/samples/1182325.xws  \n",
            " extracting: mit-bih-arrhythmia-database-1.0.0/mitdbdir/samples/1182541.xws  \n",
            " extracting: mit-bih-arrhythmia-database-1.0.0/mitdbdir/samples/1182623.xws  \n",
            " extracting: mit-bih-arrhythmia-database-1.0.0/mitdbdir/samples/1182648.xws  \n",
            " extracting: mit-bih-arrhythmia-database-1.0.0/mitdbdir/samples/1182858.xws  \n",
            " extracting: mit-bih-arrhythmia-database-1.0.0/mitdbdir/samples/1182953.xws  \n",
            " extracting: mit-bih-arrhythmia-database-1.0.0/mitdbdir/samples/1190155.xws  \n",
            " extracting: mit-bih-arrhythmia-database-1.0.0/mitdbdir/samples/1190238.xws  \n",
            " extracting: mit-bih-arrhythmia-database-1.0.0/mitdbdir/samples/1190451.xws  \n",
            " extracting: mit-bih-arrhythmia-database-1.0.0/mitdbdir/samples/1190842.xws  \n",
            " extracting: mit-bih-arrhythmia-database-1.0.0/mitdbdir/samples/1192005.xws  \n",
            " extracting: mit-bih-arrhythmia-database-1.0.0/mitdbdir/samples/1192533.xws  \n",
            " extracting: mit-bih-arrhythmia-database-1.0.0/mitdbdir/samples/1210106.xws  \n",
            " extracting: mit-bih-arrhythmia-database-1.0.0/mitdbdir/samples/1210333.xws  \n",
            " extracting: mit-bih-arrhythmia-database-1.0.0/mitdbdir/samples/1211648.xws  \n",
            " extracting: mit-bih-arrhythmia-database-1.0.0/mitdbdir/samples/1212432.xws  \n",
            " extracting: mit-bih-arrhythmia-database-1.0.0/mitdbdir/samples/1212601.xws  \n",
            " extracting: mit-bih-arrhythmia-database-1.0.0/mitdbdir/samples/1220109.xws  \n",
            " extracting: mit-bih-arrhythmia-database-1.0.0/mitdbdir/samples/1221347.xws  \n",
            " extracting: mit-bih-arrhythmia-database-1.0.0/mitdbdir/samples/1222825.xws  \n",
            " extracting: mit-bih-arrhythmia-database-1.0.0/mitdbdir/samples/1232210.xws  \n",
            " extracting: mit-bih-arrhythmia-database-1.0.0/mitdbdir/samples/1232511.xws  \n",
            " extracting: mit-bih-arrhythmia-database-1.0.0/mitdbdir/samples/1232741.xws  \n",
            " extracting: mit-bih-arrhythmia-database-1.0.0/mitdbdir/samples/1232836.xws  \n",
            " extracting: mit-bih-arrhythmia-database-1.0.0/mitdbdir/samples/1240443.xws  \n",
            " extracting: mit-bih-arrhythmia-database-1.0.0/mitdbdir/samples/1240509.xws  \n",
            " extracting: mit-bih-arrhythmia-database-1.0.0/mitdbdir/samples/1240521.xws  \n",
            " extracting: mit-bih-arrhythmia-database-1.0.0/mitdbdir/samples/1240905.xws  \n",
            " extracting: mit-bih-arrhythmia-database-1.0.0/mitdbdir/samples/1241027.xws  \n",
            " extracting: mit-bih-arrhythmia-database-1.0.0/mitdbdir/samples/1241738.xws  \n",
            " extracting: mit-bih-arrhythmia-database-1.0.0/mitdbdir/samples/1242013.xws  \n",
            " extracting: mit-bih-arrhythmia-database-1.0.0/mitdbdir/samples/1242322.xws  \n",
            " extracting: mit-bih-arrhythmia-database-1.0.0/mitdbdir/samples/1242603.xws  \n",
            " extracting: mit-bih-arrhythmia-database-1.0.0/mitdbdir/samples/1242741.xws  \n",
            " extracting: mit-bih-arrhythmia-database-1.0.0/mitdbdir/samples/2000142.xws  \n",
            " extracting: mit-bih-arrhythmia-database-1.0.0/mitdbdir/samples/2000538.xws  \n",
            " extracting: mit-bih-arrhythmia-database-1.0.0/mitdbdir/samples/2001814.xws  \n",
            " extracting: mit-bih-arrhythmia-database-1.0.0/mitdbdir/samples/2002052.xws  \n",
            " extracting: mit-bih-arrhythmia-database-1.0.0/mitdbdir/samples/2002449.xws  \n",
            " extracting: mit-bih-arrhythmia-database-1.0.0/mitdbdir/samples/2002612.xws  \n",
            " extracting: mit-bih-arrhythmia-database-1.0.0/mitdbdir/samples/2002831.xws  \n",
            " extracting: mit-bih-arrhythmia-database-1.0.0/mitdbdir/samples/2002901.xws  \n",
            " extracting: mit-bih-arrhythmia-database-1.0.0/mitdbdir/samples/2002918.xws  \n",
            " extracting: mit-bih-arrhythmia-database-1.0.0/mitdbdir/samples/2002951.xws  \n",
            " extracting: mit-bih-arrhythmia-database-1.0.0/mitdbdir/samples/2010000.xws  \n",
            " extracting: mit-bih-arrhythmia-database-1.0.0/mitdbdir/samples/2010615.xws  \n",
            " extracting: mit-bih-arrhythmia-database-1.0.0/mitdbdir/samples/2010752.xws  \n",
            " extracting: mit-bih-arrhythmia-database-1.0.0/mitdbdir/samples/2010853.xws  \n",
            " extracting: mit-bih-arrhythmia-database-1.0.0/mitdbdir/samples/2011814.xws  \n",
            " extracting: mit-bih-arrhythmia-database-1.0.0/mitdbdir/samples/2012016.xws  \n",
            " extracting: mit-bih-arrhythmia-database-1.0.0/mitdbdir/samples/2012233.xws  \n",
            " extracting: mit-bih-arrhythmia-database-1.0.0/mitdbdir/samples/2012350.xws  \n",
            " extracting: mit-bih-arrhythmia-database-1.0.0/mitdbdir/samples/2012415.xws  \n",
            " extracting: mit-bih-arrhythmia-database-1.0.0/mitdbdir/samples/2012519.xws  \n",
            " extracting: mit-bih-arrhythmia-database-1.0.0/mitdbdir/samples/2012620.xws  \n",
            " extracting: mit-bih-arrhythmia-database-1.0.0/mitdbdir/samples/2012803.xws  \n",
            " extracting: mit-bih-arrhythmia-database-1.0.0/mitdbdir/samples/2021016.xws  \n",
            " extracting: mit-bih-arrhythmia-database-1.0.0/mitdbdir/samples/2021224.xws  \n",
            " extracting: mit-bih-arrhythmia-database-1.0.0/mitdbdir/samples/2021241.xws  \n",
            " extracting: mit-bih-arrhythmia-database-1.0.0/mitdbdir/samples/2021822.xws  \n",
            " extracting: mit-bih-arrhythmia-database-1.0.0/mitdbdir/samples/2021845.xws  \n",
            " extracting: mit-bih-arrhythmia-database-1.0.0/mitdbdir/samples/2021859.xws  \n",
            " extracting: mit-bih-arrhythmia-database-1.0.0/mitdbdir/samples/2022110.xws  \n",
            " extracting: mit-bih-arrhythmia-database-1.0.0/mitdbdir/samples/2022126.xws  \n",
            " extracting: mit-bih-arrhythmia-database-1.0.0/mitdbdir/samples/2022213.xws  \n",
            " extracting: mit-bih-arrhythmia-database-1.0.0/mitdbdir/samples/2022558.xws  \n",
            " extracting: mit-bih-arrhythmia-database-1.0.0/mitdbdir/samples/2022755.xws  \n",
            " extracting: mit-bih-arrhythmia-database-1.0.0/mitdbdir/samples/2022935.xws  \n",
            " extracting: mit-bih-arrhythmia-database-1.0.0/mitdbdir/samples/2030500.xws  \n",
            " extracting: mit-bih-arrhythmia-database-1.0.0/mitdbdir/samples/2031314.xws  \n",
            " extracting: mit-bih-arrhythmia-database-1.0.0/mitdbdir/samples/2031502.xws  \n",
            " extracting: mit-bih-arrhythmia-database-1.0.0/mitdbdir/samples/2032202.xws  \n",
            " extracting: mit-bih-arrhythmia-database-1.0.0/mitdbdir/samples/2032325.xws  \n",
            " extracting: mit-bih-arrhythmia-database-1.0.0/mitdbdir/samples/2032404.xws  \n",
            " extracting: mit-bih-arrhythmia-database-1.0.0/mitdbdir/samples/2032446.xws  \n",
            " extracting: mit-bih-arrhythmia-database-1.0.0/mitdbdir/samples/2032639.xws  \n",
            " extracting: mit-bih-arrhythmia-database-1.0.0/mitdbdir/samples/2032651.xws  \n",
            " extracting: mit-bih-arrhythmia-database-1.0.0/mitdbdir/samples/2032715.xws  \n",
            " extracting: mit-bih-arrhythmia-database-1.0.0/mitdbdir/samples/2050457.xws  \n",
            " extracting: mit-bih-arrhythmia-database-1.0.0/mitdbdir/samples/2051454.xws  \n",
            " extracting: mit-bih-arrhythmia-database-1.0.0/mitdbdir/samples/2051522.xws  \n",
            " extracting: mit-bih-arrhythmia-database-1.0.0/mitdbdir/samples/2051603.xws  \n",
            " extracting: mit-bih-arrhythmia-database-1.0.0/mitdbdir/samples/2051615.xws  \n",
            " extracting: mit-bih-arrhythmia-database-1.0.0/mitdbdir/samples/2051957.xws  \n",
            " extracting: mit-bih-arrhythmia-database-1.0.0/mitdbdir/samples/2052418.xws  \n",
            " extracting: mit-bih-arrhythmia-database-1.0.0/mitdbdir/samples/2052430.xws  \n",
            " extracting: mit-bih-arrhythmia-database-1.0.0/mitdbdir/samples/2052757.xws  \n",
            " extracting: mit-bih-arrhythmia-database-1.0.0/mitdbdir/samples/2070000.xws  \n",
            " extracting: mit-bih-arrhythmia-database-1.0.0/mitdbdir/samples/2070033.xws  \n",
            " extracting: mit-bih-arrhythmia-database-1.0.0/mitdbdir/samples/2070045.xws  \n",
            " extracting: mit-bih-arrhythmia-database-1.0.0/mitdbdir/samples/2070057.xws  \n",
            " extracting: mit-bih-arrhythmia-database-1.0.0/mitdbdir/samples/2070128.xws  \n",
            "  inflating: mit-bih-arrhythmia-database-1.0.0/mitdbdir/samples/2070207.xws  \n",
            " extracting: mit-bih-arrhythmia-database-1.0.0/mitdbdir/samples/2070241.xws  \n",
            " extracting: mit-bih-arrhythmia-database-1.0.0/mitdbdir/samples/2070425.xws  \n",
            " extracting: mit-bih-arrhythmia-database-1.0.0/mitdbdir/samples/2070519.xws  \n",
            " extracting: mit-bih-arrhythmia-database-1.0.0/mitdbdir/samples/2070656.xws  \n",
            " extracting: mit-bih-arrhythmia-database-1.0.0/mitdbdir/samples/2071735.xws  \n",
            " extracting: mit-bih-arrhythmia-database-1.0.0/mitdbdir/samples/2072536.xws  \n",
            " extracting: mit-bih-arrhythmia-database-1.0.0/mitdbdir/samples/2072610.xws  \n",
            " extracting: mit-bih-arrhythmia-database-1.0.0/mitdbdir/samples/2072714.xws  \n",
            " extracting: mit-bih-arrhythmia-database-1.0.0/mitdbdir/samples/2072910.xws  \n",
            " extracting: mit-bih-arrhythmia-database-1.0.0/mitdbdir/samples/2081457.xws  \n",
            " extracting: mit-bih-arrhythmia-database-1.0.0/mitdbdir/samples/2081702.xws  \n",
            " extracting: mit-bih-arrhythmia-database-1.0.0/mitdbdir/samples/2081910.xws  \n",
            " extracting: mit-bih-arrhythmia-database-1.0.0/mitdbdir/samples/2082106.xws  \n",
            " extracting: mit-bih-arrhythmia-database-1.0.0/mitdbdir/samples/2082300.xws  \n",
            "  inflating: mit-bih-arrhythmia-database-1.0.0/mitdbdir/samples/2082808.xws  \n",
            " extracting: mit-bih-arrhythmia-database-1.0.0/mitdbdir/samples/2082858.xws  \n",
            " extracting: mit-bih-arrhythmia-database-1.0.0/mitdbdir/samples/2082937.xws  \n",
            " extracting: mit-bih-arrhythmia-database-1.0.0/mitdbdir/samples/2090047.xws  \n",
            " extracting: mit-bih-arrhythmia-database-1.0.0/mitdbdir/samples/2090550.xws  \n",
            " extracting: mit-bih-arrhythmia-database-1.0.0/mitdbdir/samples/2091257.xws  \n",
            " extracting: mit-bih-arrhythmia-database-1.0.0/mitdbdir/samples/2091421.xws  \n",
            " extracting: mit-bih-arrhythmia-database-1.0.0/mitdbdir/samples/2092325.xws  \n",
            " extracting: mit-bih-arrhythmia-database-1.0.0/mitdbdir/samples/2092817.xws  \n",
            " extracting: mit-bih-arrhythmia-database-1.0.0/mitdbdir/samples/2092833.xws  \n",
            " extracting: mit-bih-arrhythmia-database-1.0.0/mitdbdir/samples/2092910.xws  \n",
            " extracting: mit-bih-arrhythmia-database-1.0.0/mitdbdir/samples/2100347.xws  \n",
            " extracting: mit-bih-arrhythmia-database-1.0.0/mitdbdir/samples/2100656.xws  \n",
            " extracting: mit-bih-arrhythmia-database-1.0.0/mitdbdir/samples/2101314.xws  \n",
            " extracting: mit-bih-arrhythmia-database-1.0.0/mitdbdir/samples/2101555.xws  \n",
            " extracting: mit-bih-arrhythmia-database-1.0.0/mitdbdir/samples/2101732.xws  \n",
            " extracting: mit-bih-arrhythmia-database-1.0.0/mitdbdir/samples/2101757.xws  \n",
            " extracting: mit-bih-arrhythmia-database-1.0.0/mitdbdir/samples/2102033.xws  \n",
            " extracting: mit-bih-arrhythmia-database-1.0.0/mitdbdir/samples/2102915.xws  \n",
            " extracting: mit-bih-arrhythmia-database-1.0.0/mitdbdir/samples/2120005.xws  \n",
            " extracting: mit-bih-arrhythmia-database-1.0.0/mitdbdir/samples/2121842.xws  \n",
            " extracting: mit-bih-arrhythmia-database-1.0.0/mitdbdir/samples/2122421.xws  \n",
            " extracting: mit-bih-arrhythmia-database-1.0.0/mitdbdir/samples/2122438.xws  \n",
            " extracting: mit-bih-arrhythmia-database-1.0.0/mitdbdir/samples/2122645.xws  \n",
            " extracting: mit-bih-arrhythmia-database-1.0.0/mitdbdir/samples/2122846.xws  \n",
            " extracting: mit-bih-arrhythmia-database-1.0.0/mitdbdir/samples/2130339.xws  \n",
            " extracting: mit-bih-arrhythmia-database-1.0.0/mitdbdir/samples/2131448.xws  \n",
            " extracting: mit-bih-arrhythmia-database-1.0.0/mitdbdir/samples/2131505.xws  \n",
            " extracting: mit-bih-arrhythmia-database-1.0.0/mitdbdir/samples/2131538.xws  \n",
            " extracting: mit-bih-arrhythmia-database-1.0.0/mitdbdir/samples/2131730.xws  \n",
            " extracting: mit-bih-arrhythmia-database-1.0.0/mitdbdir/samples/2131755.xws  \n",
            " extracting: mit-bih-arrhythmia-database-1.0.0/mitdbdir/samples/2132443.xws  \n",
            " extracting: mit-bih-arrhythmia-database-1.0.0/mitdbdir/samples/2132558.xws  \n",
            " extracting: mit-bih-arrhythmia-database-1.0.0/mitdbdir/samples/2132651.xws  \n",
            " extracting: mit-bih-arrhythmia-database-1.0.0/mitdbdir/samples/2132856.xws  \n",
            " extracting: mit-bih-arrhythmia-database-1.0.0/mitdbdir/samples/2140030.xws  \n",
            " extracting: mit-bih-arrhythmia-database-1.0.0/mitdbdir/samples/2140221.xws  \n",
            " extracting: mit-bih-arrhythmia-database-1.0.0/mitdbdir/samples/2140235.xws  \n",
            " extracting: mit-bih-arrhythmia-database-1.0.0/mitdbdir/samples/2140325.xws  \n",
            " extracting: mit-bih-arrhythmia-database-1.0.0/mitdbdir/samples/2140356.xws  \n",
            " extracting: mit-bih-arrhythmia-database-1.0.0/mitdbdir/samples/2140508.xws  \n",
            " extracting: mit-bih-arrhythmia-database-1.0.0/mitdbdir/samples/2140538.xws  \n",
            " extracting: mit-bih-arrhythmia-database-1.0.0/mitdbdir/samples/2141353.xws  \n",
            " extracting: mit-bih-arrhythmia-database-1.0.0/mitdbdir/samples/2142317.xws  \n",
            " extracting: mit-bih-arrhythmia-database-1.0.0/mitdbdir/samples/2142752.xws  \n",
            " extracting: mit-bih-arrhythmia-database-1.0.0/mitdbdir/samples/2150255.xws  \n",
            " extracting: mit-bih-arrhythmia-database-1.0.0/mitdbdir/samples/2150311.xws  \n",
            " extracting: mit-bih-arrhythmia-database-1.0.0/mitdbdir/samples/2150946.xws  \n",
            " extracting: mit-bih-arrhythmia-database-1.0.0/mitdbdir/samples/2151558.xws  \n",
            " extracting: mit-bih-arrhythmia-database-1.0.0/mitdbdir/samples/2152025.xws  \n",
            " extracting: mit-bih-arrhythmia-database-1.0.0/mitdbdir/samples/2152216.xws  \n",
            " extracting: mit-bih-arrhythmia-database-1.0.0/mitdbdir/samples/2152457.xws  \n",
            " extracting: mit-bih-arrhythmia-database-1.0.0/mitdbdir/samples/2152730.xws  \n",
            " extracting: mit-bih-arrhythmia-database-1.0.0/mitdbdir/samples/2152757.xws  \n",
            " extracting: mit-bih-arrhythmia-database-1.0.0/mitdbdir/samples/2152942.xws  \n",
            " extracting: mit-bih-arrhythmia-database-1.0.0/mitdbdir/samples/2170000.xws  \n",
            " extracting: mit-bih-arrhythmia-database-1.0.0/mitdbdir/samples/2170033.xws  \n",
            " extracting: mit-bih-arrhythmia-database-1.0.0/mitdbdir/samples/2170123.xws  \n",
            " extracting: mit-bih-arrhythmia-database-1.0.0/mitdbdir/samples/2170418.xws  \n",
            " extracting: mit-bih-arrhythmia-database-1.0.0/mitdbdir/samples/2170612.xws  \n",
            " extracting: mit-bih-arrhythmia-database-1.0.0/mitdbdir/samples/2170651.xws  \n",
            " extracting: mit-bih-arrhythmia-database-1.0.0/mitdbdir/samples/2170705.xws  \n",
            " extracting: mit-bih-arrhythmia-database-1.0.0/mitdbdir/samples/2171227.xws  \n",
            " extracting: mit-bih-arrhythmia-database-1.0.0/mitdbdir/samples/2171401.xws  \n",
            " extracting: mit-bih-arrhythmia-database-1.0.0/mitdbdir/samples/2171530.xws  \n",
            " extracting: mit-bih-arrhythmia-database-1.0.0/mitdbdir/samples/2171656.xws  \n",
            " extracting: mit-bih-arrhythmia-database-1.0.0/mitdbdir/samples/2172227.xws  \n",
            " extracting: mit-bih-arrhythmia-database-1.0.0/mitdbdir/samples/2190249.xws  \n",
            " extracting: mit-bih-arrhythmia-database-1.0.0/mitdbdir/samples/2190508.xws  \n",
            " extracting: mit-bih-arrhythmia-database-1.0.0/mitdbdir/samples/2190522.xws  \n",
            " extracting: mit-bih-arrhythmia-database-1.0.0/mitdbdir/samples/2191350.xws  \n",
            " extracting: mit-bih-arrhythmia-database-1.0.0/mitdbdir/samples/2191900.xws  \n",
            " extracting: mit-bih-arrhythmia-database-1.0.0/mitdbdir/samples/2191957.xws  \n",
            " extracting: mit-bih-arrhythmia-database-1.0.0/mitdbdir/samples/2192211.xws  \n",
            " extracting: mit-bih-arrhythmia-database-1.0.0/mitdbdir/samples/2192243.xws  \n",
            " extracting: mit-bih-arrhythmia-database-1.0.0/mitdbdir/samples/2192443.xws  \n",
            " extracting: mit-bih-arrhythmia-database-1.0.0/mitdbdir/samples/2192609.xws  \n",
            " extracting: mit-bih-arrhythmia-database-1.0.0/mitdbdir/samples/2192855.xws  \n",
            " extracting: mit-bih-arrhythmia-database-1.0.0/mitdbdir/samples/2200646.xws  \n",
            " extracting: mit-bih-arrhythmia-database-1.0.0/mitdbdir/samples/2201041.xws  \n",
            " extracting: mit-bih-arrhythmia-database-1.0.0/mitdbdir/samples/2201810.xws  \n",
            " extracting: mit-bih-arrhythmia-database-1.0.0/mitdbdir/samples/2202029.xws  \n",
            " extracting: mit-bih-arrhythmia-database-1.0.0/mitdbdir/samples/2202358.xws  \n",
            " extracting: mit-bih-arrhythmia-database-1.0.0/mitdbdir/samples/2202544.xws  \n",
            " extracting: mit-bih-arrhythmia-database-1.0.0/mitdbdir/samples/2202940.xws  \n",
            " extracting: mit-bih-arrhythmia-database-1.0.0/mitdbdir/samples/2210000.xws  \n",
            " extracting: mit-bih-arrhythmia-database-1.0.0/mitdbdir/samples/2210243.xws  \n",
            " extracting: mit-bih-arrhythmia-database-1.0.0/mitdbdir/samples/2211300.xws  \n",
            " extracting: mit-bih-arrhythmia-database-1.0.0/mitdbdir/samples/2211356.xws  \n",
            " extracting: mit-bih-arrhythmia-database-1.0.0/mitdbdir/samples/2211749.xws  \n",
            " extracting: mit-bih-arrhythmia-database-1.0.0/mitdbdir/samples/2211912.xws  \n",
            " extracting: mit-bih-arrhythmia-database-1.0.0/mitdbdir/samples/2211942.xws  \n",
            " extracting: mit-bih-arrhythmia-database-1.0.0/mitdbdir/samples/2212044.xws  \n",
            " extracting: mit-bih-arrhythmia-database-1.0.0/mitdbdir/samples/2220645.xws  \n",
            " extracting: mit-bih-arrhythmia-database-1.0.0/mitdbdir/samples/2221732.xws  \n",
            " extracting: mit-bih-arrhythmia-database-1.0.0/mitdbdir/samples/2221948.xws  \n",
            " extracting: mit-bih-arrhythmia-database-1.0.0/mitdbdir/samples/2222007.xws  \n",
            "  inflating: mit-bih-arrhythmia-database-1.0.0/mitdbdir/samples/2222232.xws  \n",
            " extracting: mit-bih-arrhythmia-database-1.0.0/mitdbdir/samples/2222443.xws  \n",
            " extracting: mit-bih-arrhythmia-database-1.0.0/mitdbdir/samples/2222543.xws  \n",
            " extracting: mit-bih-arrhythmia-database-1.0.0/mitdbdir/samples/2222609.xws  \n",
            " extracting: mit-bih-arrhythmia-database-1.0.0/mitdbdir/samples/2230935.xws  \n",
            " extracting: mit-bih-arrhythmia-database-1.0.0/mitdbdir/samples/2231235.xws  \n",
            " extracting: mit-bih-arrhythmia-database-1.0.0/mitdbdir/samples/2231339.xws  \n",
            " extracting: mit-bih-arrhythmia-database-1.0.0/mitdbdir/samples/2231351.xws  \n",
            " extracting: mit-bih-arrhythmia-database-1.0.0/mitdbdir/samples/2231721.xws  \n",
            " extracting: mit-bih-arrhythmia-database-1.0.0/mitdbdir/samples/2231755.xws  \n",
            " extracting: mit-bih-arrhythmia-database-1.0.0/mitdbdir/samples/2231907.xws  \n",
            " extracting: mit-bih-arrhythmia-database-1.0.0/mitdbdir/samples/2232358.xws  \n",
            " extracting: mit-bih-arrhythmia-database-1.0.0/mitdbdir/samples/2232547.xws  \n",
            " extracting: mit-bih-arrhythmia-database-1.0.0/mitdbdir/samples/2232916.xws  \n",
            " extracting: mit-bih-arrhythmia-database-1.0.0/mitdbdir/samples/2232951.xws  \n",
            " extracting: mit-bih-arrhythmia-database-1.0.0/mitdbdir/samples/2280019.xws  \n",
            " extracting: mit-bih-arrhythmia-database-1.0.0/mitdbdir/samples/2280038.xws  \n",
            " extracting: mit-bih-arrhythmia-database-1.0.0/mitdbdir/samples/2280050.xws  \n",
            " extracting: mit-bih-arrhythmia-database-1.0.0/mitdbdir/samples/2280435.xws  \n",
            " extracting: mit-bih-arrhythmia-database-1.0.0/mitdbdir/samples/2281918.xws  \n",
            " extracting: mit-bih-arrhythmia-database-1.0.0/mitdbdir/samples/2282008.xws  \n",
            " extracting: mit-bih-arrhythmia-database-1.0.0/mitdbdir/samples/2282137.xws  \n",
            " extracting: mit-bih-arrhythmia-database-1.0.0/mitdbdir/samples/2282149.xws  \n",
            " extracting: mit-bih-arrhythmia-database-1.0.0/mitdbdir/samples/2282642.xws  \n",
            " extracting: mit-bih-arrhythmia-database-1.0.0/mitdbdir/samples/2300000.xws  \n",
            " extracting: mit-bih-arrhythmia-database-1.0.0/mitdbdir/samples/2300012.xws  \n",
            " extracting: mit-bih-arrhythmia-database-1.0.0/mitdbdir/samples/2300511.xws  \n",
            " extracting: mit-bih-arrhythmia-database-1.0.0/mitdbdir/samples/2300926.xws  \n",
            " extracting: mit-bih-arrhythmia-database-1.0.0/mitdbdir/samples/2302904.xws  \n",
            " extracting: mit-bih-arrhythmia-database-1.0.0/mitdbdir/samples/2310002.xws  \n",
            " extracting: mit-bih-arrhythmia-database-1.0.0/mitdbdir/samples/2310224.xws  \n",
            " extracting: mit-bih-arrhythmia-database-1.0.0/mitdbdir/samples/2312011.xws  \n",
            " extracting: mit-bih-arrhythmia-database-1.0.0/mitdbdir/samples/2312110.xws  \n",
            " extracting: mit-bih-arrhythmia-database-1.0.0/mitdbdir/samples/2312322.xws  \n",
            " extracting: mit-bih-arrhythmia-database-1.0.0/mitdbdir/samples/2320058.xws  \n",
            " extracting: mit-bih-arrhythmia-database-1.0.0/mitdbdir/samples/2320151.xws  \n",
            " extracting: mit-bih-arrhythmia-database-1.0.0/mitdbdir/samples/2321151.xws  \n",
            " extracting: mit-bih-arrhythmia-database-1.0.0/mitdbdir/samples/2321306.xws  \n",
            " extracting: mit-bih-arrhythmia-database-1.0.0/mitdbdir/samples/2321509.xws  \n",
            " extracting: mit-bih-arrhythmia-database-1.0.0/mitdbdir/samples/2321817.xws  \n",
            " extracting: mit-bih-arrhythmia-database-1.0.0/mitdbdir/samples/2322231.xws  \n",
            " extracting: mit-bih-arrhythmia-database-1.0.0/mitdbdir/samples/2322247.xws  \n",
            " extracting: mit-bih-arrhythmia-database-1.0.0/mitdbdir/samples/2322320.xws  \n",
            " extracting: mit-bih-arrhythmia-database-1.0.0/mitdbdir/samples/2322334.xws  \n",
            " extracting: mit-bih-arrhythmia-database-1.0.0/mitdbdir/samples/2322353.xws  \n",
            " extracting: mit-bih-arrhythmia-database-1.0.0/mitdbdir/samples/2330011.xws  \n",
            " extracting: mit-bih-arrhythmia-database-1.0.0/mitdbdir/samples/2330025.xws  \n",
            " extracting: mit-bih-arrhythmia-database-1.0.0/mitdbdir/samples/2330218.xws  \n",
            " extracting: mit-bih-arrhythmia-database-1.0.0/mitdbdir/samples/2330243.xws  \n",
            " extracting: mit-bih-arrhythmia-database-1.0.0/mitdbdir/samples/2330339.xws  \n",
            " extracting: mit-bih-arrhythmia-database-1.0.0/mitdbdir/samples/2330502.xws  \n",
            " extracting: mit-bih-arrhythmia-database-1.0.0/mitdbdir/samples/2330943.xws  \n",
            " extracting: mit-bih-arrhythmia-database-1.0.0/mitdbdir/samples/2331620.xws  \n",
            " extracting: mit-bih-arrhythmia-database-1.0.0/mitdbdir/samples/2331802.xws  \n",
            " extracting: mit-bih-arrhythmia-database-1.0.0/mitdbdir/samples/2332223.xws  \n",
            " extracting: mit-bih-arrhythmia-database-1.0.0/mitdbdir/samples/2340016.xws  \n",
            " extracting: mit-bih-arrhythmia-database-1.0.0/mitdbdir/samples/2340637.xws  \n",
            " extracting: mit-bih-arrhythmia-database-1.0.0/mitdbdir/samples/2341401.xws  \n",
            " extracting: mit-bih-arrhythmia-database-1.0.0/mitdbdir/samples/2341426.xws  \n",
            " extracting: mit-bih-arrhythmia-database-1.0.0/mitdbdir/samples/2341702.xws  \n",
            " extracting: mit-bih-arrhythmia-database-1.0.0/mitdbdir/samples/2342126.xws  \n",
            " extracting: mit-bih-arrhythmia-database-1.0.0/mitdbdir/samples/2342317.xws  \n",
            " extracting: mit-bih-arrhythmia-database-1.0.0/mitdbdir/src/contents.gz  \n",
            "  inflating: mit-bih-arrhythmia-database-1.0.0/mitdbdir/src/contents.tr  \n",
            " extracting: mit-bih-arrhythmia-database-1.0.0/mitdbdir/src/cover.gz  \n",
            "  inflating: mit-bih-arrhythmia-database-1.0.0/mitdbdir/src/cover.tr  \n",
            "  inflating: mit-bih-arrhythmia-database-1.0.0/mitdbdir/src/dbnotes-html.c  \n",
            "  inflating: mit-bih-arrhythmia-database-1.0.0/mitdbdir/src/dbnotes.c  \n",
            "  inflating: mit-bih-arrhythmia-database-1.0.0/mitdbdir/src/dbtab.c  \n",
            "  inflating: mit-bih-arrhythmia-database-1.0.0/mitdbdir/src/domit  \n",
            "  inflating: mit-bih-arrhythmia-database-1.0.0/mitdbdir/src/exlist  \n",
            " extracting: mit-bih-arrhythmia-database-1.0.0/mitdbdir/src/extest  \n",
            " extracting: mit-bih-arrhythmia-database-1.0.0/mitdbdir/src/extext.gz  \n",
            "  inflating: mit-bih-arrhythmia-database-1.0.0/mitdbdir/src/extext.tr  \n",
            "  inflating: mit-bih-arrhythmia-database-1.0.0/mitdbdir/src/fdlist  \n",
            " extracting: mit-bih-arrhythmia-database-1.0.0/mitdbdir/src/fdtext.gz  \n",
            "  inflating: mit-bih-arrhythmia-database-1.0.0/mitdbdir/src/fdtext.tr  \n",
            " extracting: mit-bih-arrhythmia-database-1.0.0/mitdbdir/src/index.gz  \n",
            "  inflating: mit-bih-arrhythmia-database-1.0.0/mitdbdir/src/index.tr  \n",
            "  inflating: mit-bih-arrhythmia-database-1.0.0/mitdbdir/src/intro.gz  \n",
            "  inflating: mit-bih-arrhythmia-database-1.0.0/mitdbdir/src/intro.tr  \n",
            "  inflating: mit-bih-arrhythmia-database-1.0.0/mitdbdir/src/makefile  \n",
            "  inflating: mit-bih-arrhythmia-database-1.0.0/mitdbdir/src/makefile-html  \n",
            "  inflating: mit-bih-arrhythmia-database-1.0.0/mitdbdir/src/makelinks.pl  \n",
            " extracting: mit-bih-arrhythmia-database-1.0.0/mitdbdir/src/notes.gz  \n",
            "  inflating: mit-bih-arrhythmia-database-1.0.0/mitdbdir/src/notes.h  \n",
            "  inflating: mit-bih-arrhythmia-database-1.0.0/mitdbdir/src/printdir.bat  \n",
            "  inflating: mit-bih-arrhythmia-database-1.0.0/mitdbdir/src/tab.1  \n",
            "  inflating: mit-bih-arrhythmia-database-1.0.0/mitdbdir/src/tab.2  \n",
            "  inflating: mit-bih-arrhythmia-database-1.0.0/mitdbdir/src/tab.3  \n",
            "  inflating: mit-bih-arrhythmia-database-1.0.0/mitdbdir/src/tab.4  \n",
            " extracting: mit-bih-arrhythmia-database-1.0.0/mitdbdir/src/tab.5  \n",
            "  inflating: mit-bih-arrhythmia-database-1.0.0/mitdbdir/src/tables.gz  \n",
            "  inflating: mit-bih-arrhythmia-database-1.0.0/mitdbdir/src/title.dvi  \n",
            " extracting: mit-bih-arrhythmia-database-1.0.0/mitdbdir/src/title.gz  \n",
            "  inflating: mit-bih-arrhythmia-database-1.0.0/mitdbdir/tables.htm  \n",
            " extracting: mit-bih-arrhythmia-database-1.0.0/x_mitdb/ANNOTATORS  \n",
            "  inflating: mit-bih-arrhythmia-database-1.0.0/x_mitdb/RECORDS  \n",
            "  inflating: mit-bih-arrhythmia-database-1.0.0/x_mitdb/x_108.atr  \n",
            "  inflating: mit-bih-arrhythmia-database-1.0.0/x_mitdb/x_108.dat  \n",
            "  inflating: mit-bih-arrhythmia-database-1.0.0/x_mitdb/x_108.hea  \n",
            "  inflating: mit-bih-arrhythmia-database-1.0.0/x_mitdb/x_109.atr  \n",
            "  inflating: mit-bih-arrhythmia-database-1.0.0/x_mitdb/x_109.dat  \n",
            "  inflating: mit-bih-arrhythmia-database-1.0.0/x_mitdb/x_109.hea  \n",
            "  inflating: mit-bih-arrhythmia-database-1.0.0/x_mitdb/x_111.atr  \n",
            "  inflating: mit-bih-arrhythmia-database-1.0.0/x_mitdb/x_111.dat  \n",
            "  inflating: mit-bih-arrhythmia-database-1.0.0/x_mitdb/x_111.hea  \n",
            "  inflating: mit-bih-arrhythmia-database-1.0.0/x_mitdb/x_112.atr  \n",
            "  inflating: mit-bih-arrhythmia-database-1.0.0/x_mitdb/x_112.dat  \n",
            "  inflating: mit-bih-arrhythmia-database-1.0.0/x_mitdb/x_112.hea  \n",
            "  inflating: mit-bih-arrhythmia-database-1.0.0/x_mitdb/x_113.atr  \n",
            "  inflating: mit-bih-arrhythmia-database-1.0.0/x_mitdb/x_113.dat  \n",
            "  inflating: mit-bih-arrhythmia-database-1.0.0/x_mitdb/x_113.hea  \n",
            "  inflating: mit-bih-arrhythmia-database-1.0.0/x_mitdb/x_114.atr  \n",
            "  inflating: mit-bih-arrhythmia-database-1.0.0/x_mitdb/x_114.dat  \n",
            "  inflating: mit-bih-arrhythmia-database-1.0.0/x_mitdb/x_114.hea  \n",
            "  inflating: mit-bih-arrhythmia-database-1.0.0/x_mitdb/x_115.atr  \n",
            "  inflating: mit-bih-arrhythmia-database-1.0.0/x_mitdb/x_115.dat  \n",
            "  inflating: mit-bih-arrhythmia-database-1.0.0/x_mitdb/x_115.hea  \n",
            "  inflating: mit-bih-arrhythmia-database-1.0.0/x_mitdb/x_116.atr  \n",
            "  inflating: mit-bih-arrhythmia-database-1.0.0/x_mitdb/x_116.dat  \n",
            "  inflating: mit-bih-arrhythmia-database-1.0.0/x_mitdb/x_116.hea  \n",
            "  inflating: mit-bih-arrhythmia-database-1.0.0/x_mitdb/x_117.atr  \n",
            "  inflating: mit-bih-arrhythmia-database-1.0.0/x_mitdb/x_117.dat  \n",
            "  inflating: mit-bih-arrhythmia-database-1.0.0/x_mitdb/x_117.hea  \n",
            "  inflating: mit-bih-arrhythmia-database-1.0.0/x_mitdb/x_121.atr  \n",
            "  inflating: mit-bih-arrhythmia-database-1.0.0/x_mitdb/x_121.dat  \n",
            "  inflating: mit-bih-arrhythmia-database-1.0.0/x_mitdb/x_121.hea  \n",
            "  inflating: mit-bih-arrhythmia-database-1.0.0/x_mitdb/x_122.atr  \n",
            "  inflating: mit-bih-arrhythmia-database-1.0.0/x_mitdb/x_122.dat  \n",
            "  inflating: mit-bih-arrhythmia-database-1.0.0/x_mitdb/x_122.hea  \n",
            "  inflating: mit-bih-arrhythmia-database-1.0.0/x_mitdb/x_123.atr  \n",
            "  inflating: mit-bih-arrhythmia-database-1.0.0/x_mitdb/x_123.dat  \n",
            "  inflating: mit-bih-arrhythmia-database-1.0.0/x_mitdb/x_123.hea  \n",
            "  inflating: mit-bih-arrhythmia-database-1.0.0/x_mitdb/x_124.atr  \n",
            "  inflating: mit-bih-arrhythmia-database-1.0.0/x_mitdb/x_124.dat  \n",
            "  inflating: mit-bih-arrhythmia-database-1.0.0/x_mitdb/x_124.hea  \n",
            "  inflating: mit-bih-arrhythmia-database-1.0.0/x_mitdb/x_220.atr  \n",
            "  inflating: mit-bih-arrhythmia-database-1.0.0/x_mitdb/x_220.dat  \n",
            "  inflating: mit-bih-arrhythmia-database-1.0.0/x_mitdb/x_220.hea  \n",
            "  inflating: mit-bih-arrhythmia-database-1.0.0/x_mitdb/x_221.atr  \n",
            "  inflating: mit-bih-arrhythmia-database-1.0.0/x_mitdb/x_221.dat  \n",
            "  inflating: mit-bih-arrhythmia-database-1.0.0/x_mitdb/x_221.hea  \n",
            "  inflating: mit-bih-arrhythmia-database-1.0.0/x_mitdb/x_222.atr  \n",
            "  inflating: mit-bih-arrhythmia-database-1.0.0/x_mitdb/x_222.dat  \n",
            "  inflating: mit-bih-arrhythmia-database-1.0.0/x_mitdb/x_222.hea  \n",
            "  inflating: mit-bih-arrhythmia-database-1.0.0/x_mitdb/x_223.atr  \n",
            "  inflating: mit-bih-arrhythmia-database-1.0.0/x_mitdb/x_223.dat  \n",
            "  inflating: mit-bih-arrhythmia-database-1.0.0/x_mitdb/x_223.hea  \n",
            "  inflating: mit-bih-arrhythmia-database-1.0.0/x_mitdb/x_228.atr  \n",
            "  inflating: mit-bih-arrhythmia-database-1.0.0/x_mitdb/x_228.dat  \n",
            "  inflating: mit-bih-arrhythmia-database-1.0.0/x_mitdb/x_228.hea  \n",
            "  inflating: mit-bih-arrhythmia-database-1.0.0/x_mitdb/x_230.atr  \n",
            "  inflating: mit-bih-arrhythmia-database-1.0.0/x_mitdb/x_230.dat  \n",
            "  inflating: mit-bih-arrhythmia-database-1.0.0/x_mitdb/x_230.hea  \n",
            "  inflating: mit-bih-arrhythmia-database-1.0.0/x_mitdb/x_231.atr  \n",
            "  inflating: mit-bih-arrhythmia-database-1.0.0/x_mitdb/x_231.dat  \n",
            "  inflating: mit-bih-arrhythmia-database-1.0.0/x_mitdb/x_231.hea  \n",
            "  inflating: mit-bih-arrhythmia-database-1.0.0/x_mitdb/x_232.atr  \n",
            "  inflating: mit-bih-arrhythmia-database-1.0.0/x_mitdb/x_232.dat  \n",
            "  inflating: mit-bih-arrhythmia-database-1.0.0/x_mitdb/x_232.hea  \n",
            "  inflating: mit-bih-arrhythmia-database-1.0.0/x_mitdb/x_233.atr  \n",
            "  inflating: mit-bih-arrhythmia-database-1.0.0/x_mitdb/x_233.dat  \n",
            "  inflating: mit-bih-arrhythmia-database-1.0.0/x_mitdb/x_233.hea  \n",
            "  inflating: mit-bih-arrhythmia-database-1.0.0/x_mitdb/x_234.atr  \n",
            "  inflating: mit-bih-arrhythmia-database-1.0.0/x_mitdb/x_234.dat  \n",
            "  inflating: mit-bih-arrhythmia-database-1.0.0/x_mitdb/x_234.hea  \n"
          ],
          "name": "stdout"
        }
      ]
    },
    {
      "cell_type": "code",
      "metadata": {
        "id": "cyKGDCehICiX"
      },
      "source": [
        "import pandas as pd\n",
        "import numpy as np\n",
        "import matplotlib.pyplot as plt"
      ],
      "execution_count": 27,
      "outputs": []
    },
    {
      "cell_type": "code",
      "metadata": {
        "id": "eZ4lUxphIN-q"
      },
      "source": [
        "data_path = '/content/drive/MyDrive/ECG/mit-bih-arrhythmia-database-1.0.0/'"
      ],
      "execution_count": 14,
      "outputs": []
    },
    {
      "cell_type": "code",
      "metadata": {
        "id": "s_rwO2IWITlz"
      },
      "source": [
        "pts = ['100','101','102','103','104','105','106','107',\n",
        "       '108','109','111','112','113','114','115','116',\n",
        "       '117','118','119','121','122','123','124','200',\n",
        "       '201','202','203','205','207','208','209','210',\n",
        "       '212','213','214','215','217','219','220','221',\n",
        "       '222','223','228','230','231','232','233','234']"
      ],
      "execution_count": 8,
      "outputs": []
    },
    {
      "cell_type": "code",
      "metadata": {
        "colab": {
          "base_uri": "https://localhost:8080/"
        },
        "id": "4GObZ_f0IibS",
        "outputId": "db7b06f1-ffeb-4150-9549-9445a502c300"
      },
      "source": [
        "!pip install wfdb"
      ],
      "execution_count": 10,
      "outputs": [
        {
          "output_type": "stream",
          "text": [
            "Collecting wfdb\n",
            "\u001b[?25l  Downloading https://files.pythonhosted.org/packages/ee/28/21d6924727ff45c1ab0182d384e470fa5d1e985349528c4b807587b5da59/wfdb-3.4.0-py3-none-any.whl (137kB)\n",
            "\r\u001b[K     |██▍                             | 10kB 13.6MB/s eta 0:00:01\r\u001b[K     |████▊                           | 20kB 19.7MB/s eta 0:00:01\r\u001b[K     |███████▏                        | 30kB 10.9MB/s eta 0:00:01\r\u001b[K     |█████████▌                      | 40kB 8.8MB/s eta 0:00:01\r\u001b[K     |████████████                    | 51kB 4.2MB/s eta 0:00:01\r\u001b[K     |██████████████▎                 | 61kB 4.5MB/s eta 0:00:01\r\u001b[K     |████████████████▊               | 71kB 4.6MB/s eta 0:00:01\r\u001b[K     |███████████████████             | 81kB 4.7MB/s eta 0:00:01\r\u001b[K     |█████████████████████▍          | 92kB 4.9MB/s eta 0:00:01\r\u001b[K     |███████████████████████▉        | 102kB 5.0MB/s eta 0:00:01\r\u001b[K     |██████████████████████████▏     | 112kB 5.0MB/s eta 0:00:01\r\u001b[K     |████████████████████████████▋   | 122kB 5.0MB/s eta 0:00:01\r\u001b[K     |███████████████████████████████ | 133kB 5.0MB/s eta 0:00:01\r\u001b[K     |████████████████████████████████| 143kB 5.0MB/s \n",
            "\u001b[?25hRequirement already satisfied: cycler>=0.10.0 in /usr/local/lib/python3.7/dist-packages (from wfdb) (0.10.0)\n",
            "Requirement already satisfied: kiwisolver>=1.1.0 in /usr/local/lib/python3.7/dist-packages (from wfdb) (1.3.1)\n",
            "Requirement already satisfied: pytz>=2017.2 in /usr/local/lib/python3.7/dist-packages (from wfdb) (2018.9)\n",
            "Requirement already satisfied: scipy>=0.17.0 in /usr/local/lib/python3.7/dist-packages (from wfdb) (1.4.1)\n",
            "Collecting threadpoolctl>=1.0.0\n",
            "  Downloading https://files.pythonhosted.org/packages/c6/e8/c216b9b60cbba4642d3ca1bae7a53daa0c24426f662e0e3ce3dc7f6caeaa/threadpoolctl-2.2.0-py3-none-any.whl\n",
            "Requirement already satisfied: idna>=2.2 in /usr/local/lib/python3.7/dist-packages (from wfdb) (2.10)\n",
            "Requirement already satisfied: joblib>=0.11 in /usr/local/lib/python3.7/dist-packages (from wfdb) (1.0.1)\n",
            "Requirement already satisfied: python-dateutil>=2.4.2 in /usr/local/lib/python3.7/dist-packages (from wfdb) (2.8.1)\n",
            "Requirement already satisfied: pyparsing>=2.0.4 in /usr/local/lib/python3.7/dist-packages (from wfdb) (2.4.7)\n",
            "Requirement already satisfied: matplotlib>=2.0.0 in /usr/local/lib/python3.7/dist-packages (from wfdb) (3.2.2)\n",
            "Requirement already satisfied: scikit-learn>=0.18 in /usr/local/lib/python3.7/dist-packages (from wfdb) (0.22.2.post1)\n",
            "Requirement already satisfied: certifi>=2016.8.2 in /usr/local/lib/python3.7/dist-packages (from wfdb) (2021.5.30)\n",
            "Requirement already satisfied: pandas>=0.17.0 in /usr/local/lib/python3.7/dist-packages (from wfdb) (1.1.5)\n",
            "Requirement already satisfied: numpy>=1.10.1 in /usr/local/lib/python3.7/dist-packages (from wfdb) (1.19.5)\n",
            "Requirement already satisfied: requests>=2.8.1 in /usr/local/lib/python3.7/dist-packages (from wfdb) (2.23.0)\n",
            "Requirement already satisfied: chardet>=3.0.0 in /usr/local/lib/python3.7/dist-packages (from wfdb) (3.0.4)\n",
            "Requirement already satisfied: urllib3>=1.22 in /usr/local/lib/python3.7/dist-packages (from wfdb) (1.24.3)\n",
            "Requirement already satisfied: six in /usr/local/lib/python3.7/dist-packages (from cycler>=0.10.0->wfdb) (1.15.0)\n",
            "Installing collected packages: threadpoolctl, wfdb\n",
            "Successfully installed threadpoolctl-2.2.0 wfdb-3.4.0\n"
          ],
          "name": "stdout"
        }
      ]
    },
    {
      "cell_type": "code",
      "metadata": {
        "id": "DD0Ofn8nIX3O"
      },
      "source": [
        "import wfdb"
      ],
      "execution_count": 11,
      "outputs": []
    },
    {
      "cell_type": "code",
      "metadata": {
        "colab": {
          "base_uri": "https://localhost:8080/"
        },
        "id": "WAXOzp_LI9Lg",
        "outputId": "0e1bd98c-dda3-4d56-d4a6-4bb6f7f0216a"
      },
      "source": [
        "!ls"
      ],
      "execution_count": 13,
      "outputs": [
        {
          "output_type": "stream",
          "text": [
            "mit-bih-arrhythmia-database-1.0.0  mit-bih-arrhythmia-database-1.0.0.zip\n"
          ],
          "name": "stdout"
        }
      ]
    },
    {
      "cell_type": "code",
      "metadata": {
        "id": "VoKX76irIZ4X"
      },
      "source": [
        "df = pd.DataFrame()\n",
        "\n",
        "for pt in pts:\n",
        "    file = data_path + pt\n",
        "    annotation = wfdb.rdann(file, 'atr')\n",
        "    sym = annotation.symbol\n",
        "    \n",
        "    values, counts = np.unique(sym, return_counts=True)\n",
        "    df_sub = pd.DataFrame({'sym':values, 'val':counts, 'pt':[pt]*len(counts)})\n",
        "    df = pd.concat([df, df_sub],axis = 0)"
      ],
      "execution_count": 15,
      "outputs": []
    },
    {
      "cell_type": "code",
      "metadata": {
        "colab": {
          "base_uri": "https://localhost:8080/"
        },
        "id": "OzqpgguoIpCj",
        "outputId": "8d2468a2-b69b-4195-ad66-194207f2b626"
      },
      "source": [
        "\n",
        "df.groupby('sym').val.sum().sort_values(ascending = False)"
      ],
      "execution_count": 16,
      "outputs": [
        {
          "output_type": "execute_result",
          "data": {
            "text/plain": [
              "sym\n",
              "N    75052\n",
              "L     8075\n",
              "R     7259\n",
              "V     7130\n",
              "/     7028\n",
              "A     2546\n",
              "+     1291\n",
              "f      982\n",
              "F      803\n",
              "~      616\n",
              "!      472\n",
              "\"      437\n",
              "j      229\n",
              "x      193\n",
              "a      150\n",
              "|      132\n",
              "E      106\n",
              "J       83\n",
              "Q       33\n",
              "e       16\n",
              "[        6\n",
              "]        6\n",
              "S        2\n",
              "Name: val, dtype: int64"
            ]
          },
          "metadata": {
            "tags": []
          },
          "execution_count": 16
        }
      ]
    },
    {
      "cell_type": "code",
      "metadata": {
        "id": "Dq7JgHsFJdqk"
      },
      "source": [
        "nonbeat = ['[','!',']','x','(',')','p','t','u','`',\n",
        "           '\\'','^','|','~','+','s','T','*','D','=','\"','@','Q','?']\n",
        "abnormal = ['L','R','V','/','A','f','F','j','a','E','J','e','S']"
      ],
      "execution_count": 17,
      "outputs": []
    },
    {
      "cell_type": "code",
      "metadata": {
        "id": "VOOZ41DYJhuH"
      },
      "source": [
        "df['cat'] = -1\n",
        "df.loc[df.sym == 'N','cat'] = 0\n",
        "df.loc[df.sym.isin(abnormal), 'cat'] = 1"
      ],
      "execution_count": 18,
      "outputs": []
    },
    {
      "cell_type": "code",
      "metadata": {
        "colab": {
          "base_uri": "https://localhost:8080/"
        },
        "id": "J--KRdRXJkn0",
        "outputId": "892be413-9352-4e5b-d8d9-5800ce3fa84f"
      },
      "source": [
        "df.groupby('cat').val.sum()\n"
      ],
      "execution_count": 19,
      "outputs": [
        {
          "output_type": "execute_result",
          "data": {
            "text/plain": [
              "cat\n",
              "-1     3186\n",
              " 0    75052\n",
              " 1    34409\n",
              "Name: val, dtype: int64"
            ]
          },
          "metadata": {
            "tags": []
          },
          "execution_count": 19
        }
      ]
    },
    {
      "cell_type": "code",
      "metadata": {
        "id": "tTOmhdytJmRM"
      },
      "source": [
        "def load_ecg(file):\n",
        "    # load the ecg\n",
        "    # example file: 'mit-bih-arrhythmia-database-1.0.0/101'\n",
        "    \n",
        "    # load the ecg\n",
        "    record = wfdb.rdrecord(file)\n",
        "    # load the annotation\n",
        "    annotation = wfdb.rdann(file, 'atr')\n",
        "    \n",
        "    # extract the signal\n",
        "    p_signal = record.p_signal\n",
        "    \n",
        "    # verify frequency is 360\n",
        "    assert record.fs == 360, 'sample freq is not 360'\n",
        "    \n",
        "    # extract symbols and annotation index\n",
        "    atr_sym = annotation.symbol\n",
        "    atr_sample = annotation.sample\n",
        "    \n",
        "    return p_signal, atr_sym, atr_sample"
      ],
      "execution_count": 20,
      "outputs": []
    },
    {
      "cell_type": "code",
      "metadata": {
        "id": "D9yShBzlJvAR"
      },
      "source": [
        "file = data_path + pts[0]\n"
      ],
      "execution_count": 21,
      "outputs": []
    },
    {
      "cell_type": "code",
      "metadata": {
        "id": "Kyn5ZdXUJxPy"
      },
      "source": [
        "p_signal, atr_sym, atr_sample = load_ecg(file)\n"
      ],
      "execution_count": 22,
      "outputs": []
    },
    {
      "cell_type": "code",
      "metadata": {
        "colab": {
          "base_uri": "https://localhost:8080/"
        },
        "id": "VREa1t7sJzQ8",
        "outputId": "4b77a9fc-d382-41dd-f9ba-43d83626a934"
      },
      "source": [
        "values, counts = np.unique(sym, return_counts=True)\n",
        "for v,c in zip(values, counts):\n",
        "    print(v,c)"
      ],
      "execution_count": 23,
      "outputs": [
        {
          "output_type": "stream",
          "text": [
            "+ 3\n",
            "J 50\n",
            "N 2700\n",
            "V 3\n",
            "~ 8\n"
          ],
          "name": "stdout"
        }
      ]
    },
    {
      "cell_type": "code",
      "metadata": {
        "colab": {
          "base_uri": "https://localhost:8080/"
        },
        "id": "n2z7bFWsJ2o8",
        "outputId": "1f13b401-b6ba-46d4-c517-29263179f99f"
      },
      "source": [
        "# get abnormal beat index\n",
        "ab_index = [b for a,b in zip(atr_sym,atr_sample) if a in abnormal][:10]\n",
        "ab_index"
      ],
      "execution_count": 24,
      "outputs": [
        {
          "output_type": "execute_result",
          "data": {
            "text/plain": [
              "[2044, 66792, 74986, 99579, 128085, 170719, 279576, 305709, 307745, 312825]"
            ]
          },
          "metadata": {
            "tags": []
          },
          "execution_count": 24
        }
      ]
    },
    {
      "cell_type": "code",
      "metadata": {
        "id": "g2sAhQ2RJ5kV"
      },
      "source": [
        "x = np.arange(len(p_signal))"
      ],
      "execution_count": 25,
      "outputs": []
    },
    {
      "cell_type": "code",
      "metadata": {
        "colab": {
          "base_uri": "https://localhost:8080/",
          "height": 279
        },
        "id": "-f4sXpMoJ7oY",
        "outputId": "54b79dc7-9030-4b93-e6be-645abe791340"
      },
      "source": [
        "left = ab_index[1]-1080\n",
        "right = ab_index[1]+1080\n",
        "\n",
        "plt.plot(x[left:right],p_signal[left:right,0],'-',label='ecg',)\n",
        "plt.plot(x[atr_sample],p_signal[atr_sample,0],'go',label ='normal')\n",
        "plt.plot(x[ab_index],p_signal[ab_index,0],'ro',label='abnormal')\n",
        "\n",
        "plt.xlim(left,right)\n",
        "plt.ylim(p_signal[left:right].min()-0.05,p_signal[left:right,0].max()+0.05)\n",
        "plt.xlabel('time index')\n",
        "plt.ylabel('ECG signal')\n",
        "plt.legend(bbox_to_anchor = (1.04,1), loc = 'upper left')\n",
        "plt.show()"
      ],
      "execution_count": 28,
      "outputs": [
        {
          "output_type": "display_data",
          "data": {
            "image/png": "[encoded data removed]",
            "text/plain": [
              "<Figure size 432x288 with 1 Axes>"
            ]
          },
          "metadata": {
            "tags": [],
            "needs_background": "light"
          }
        }
      ]
    },
    {
      "cell_type": "code",
      "metadata": {
        "id": "1d6HCvwHJ_qv"
      },
      "source": [
        "def make_dataset(pts, num_sec, fs, abnormal):\n",
        "    # function for making dataset ignoring non-beats\n",
        "    # input:\n",
        "    # pts - list of patients\n",
        "    # num_sec = number of seconds to include before and after the beat\n",
        "    # fs = frequency\n",
        "    # output: \n",
        "    #   X_all = signal (nbeats , num_sec * fs columns)\n",
        "    #   Y_all = binary is abnormal (nbeats, 1)\n",
        "    #   sym_all = beat annotation symbol (nbeats,1)\n",
        "    \n",
        "    # initialize numpy arrays\n",
        "    num_cols = 2*num_sec * fs\n",
        "    X_all = np.zeros((1,num_cols))\n",
        "    Y_all = np.zeros((1,1))\n",
        "    sym_all = []\n",
        "    \n",
        "    # list to keep track of number of beats across patients\n",
        "    max_rows = []\n",
        "    \n",
        "    for pt in pts:\n",
        "        file = data_path + pt\n",
        "        \n",
        "        p_signal, atr_sym, atr_sample = load_ecg(file)\n",
        "        \n",
        "        # grab the first signal\n",
        "        p_signal = p_signal[:,0]\n",
        "        \n",
        "        # make df to exclude the nonbeats\n",
        "        df_ann = pd.DataFrame({'atr_sym':atr_sym,\n",
        "                              'atr_sample':atr_sample})\n",
        "        df_ann = df_ann.loc[df_ann.atr_sym.isin(abnormal + ['N'])]\n",
        "        \n",
        "        X,Y,sym = build_XY(p_signal,df_ann, num_cols, abnormal)\n",
        "        sym_all = sym_all+sym\n",
        "        max_rows.append(X.shape[0])\n",
        "        X_all = np.append(X_all,X,axis = 0)\n",
        "        Y_all = np.append(Y_all,Y,axis = 0)\n",
        "    # drop the first zero row\n",
        "    X_all = X_all[1:,:]\n",
        "    Y_all = Y_all[1:,:]\n",
        "    \n",
        "    # check sizes make sense\n",
        "    assert np.sum(max_rows) == X_all.shape[0], 'number of X, max_rows rows messed up'\n",
        "    assert Y_all.shape[0] == X_all.shape[0], 'number of X, Y rows messed up'\n",
        "    assert Y_all.shape[0] == len(sym_all), 'number of Y, sym rows messed up'\n",
        "\n",
        "    return X_all, Y_all, sym_all\n",
        "\n",
        "\n",
        "\n",
        "def build_XY(p_signal, df_ann, num_cols, abnormal):\n",
        "    # this function builds the X,Y matrices for each beat\n",
        "    # it also returns the original symbols for Y\n",
        "    \n",
        "    num_rows = len(df_ann)\n",
        "\n",
        "    X = np.zeros((num_rows, num_cols))\n",
        "    Y = np.zeros((num_rows,1))\n",
        "    sym = []\n",
        "    \n",
        "    # keep track of rows\n",
        "    max_row = 0\n",
        "\n",
        "    for atr_sample, atr_sym in zip(df_ann.atr_sample.values,df_ann.atr_sym.values):\n",
        "\n",
        "        left = max([0,(atr_sample - num_sec*fs) ])\n",
        "        right = min([len(p_signal),(atr_sample + num_sec*fs) ])\n",
        "        x = p_signal[left: right]\n",
        "        if len(x) == num_cols:\n",
        "            X[max_row,:] = x\n",
        "            Y[max_row,:] = int(atr_sym in abnormal)\n",
        "            sym.append(atr_sym)\n",
        "            max_row += 1\n",
        "    X = X[:max_row,:]\n",
        "    Y = Y[:max_row,:]\n",
        "    return X,Y,sym"
      ],
      "execution_count": 29,
      "outputs": []
    },
    {
      "cell_type": "code",
      "metadata": {
        "id": "wiHSLjkmKQu_"
      },
      "source": [
        "num_sec = 3\n",
        "fs = 360"
      ],
      "execution_count": 30,
      "outputs": []
    },
    {
      "cell_type": "code",
      "metadata": {
        "id": "hytsMCdbKTeS"
      },
      "source": [
        "X_all, Y_all, sym_all = make_dataset(pts, num_sec, fs, abnormal)"
      ],
      "execution_count": 31,
      "outputs": []
    },
    {
      "cell_type": "code",
      "metadata": {
        "id": "mwqAbNRQKWWy"
      },
      "source": [
        "from sklearn.model_selection import train_test_split\n",
        "\n",
        "X_train, X_valid, y_train, y_valid = train_test_split(X_all, Y_all, test_size=0.33, random_state=42)"
      ],
      "execution_count": 32,
      "outputs": []
    },
    {
      "cell_type": "code",
      "metadata": {
        "colab": {
          "base_uri": "https://localhost:8080/"
        },
        "id": "6vBhZ_QBKqoJ",
        "outputId": "ee7bfec9-c3ee-481a-ae9d-2d70b9361ede"
      },
      "source": [
        "!pip install np_utils"
      ],
      "execution_count": 34,
      "outputs": [
        {
          "output_type": "stream",
          "text": [
            "Collecting np_utils\n",
            "\u001b[?25l  Downloading https://files.pythonhosted.org/packages/b6/18/5704a782fd72727a9e63198fcc76fadb86975f45bcdf579c10f668329508/np_utils-0.5.12.1.tar.gz (61kB)\n",
            "\r\u001b[K     |█████▍                          | 10kB 12.8MB/s eta 0:00:01\r\u001b[K     |██████████▊                     | 20kB 18.8MB/s eta 0:00:01\r\u001b[K     |████████████████                | 30kB 12.4MB/s eta 0:00:01\r\u001b[K     |█████████████████████▍          | 40kB 9.6MB/s eta 0:00:01\r\u001b[K     |██████████████████████████▊     | 51kB 4.4MB/s eta 0:00:01\r\u001b[K     |████████████████████████████████| 61kB 2.9MB/s \n",
            "\u001b[?25hRequirement already satisfied: numpy>=1.0 in /usr/local/lib/python3.7/dist-packages (from np_utils) (1.19.5)\n",
            "Requirement already satisfied: future>=0.16 in /usr/local/lib/python3.7/dist-packages (from np_utils) (0.16.0)\n",
            "Building wheels for collected packages: np-utils\n",
            "  Building wheel for np-utils (setup.py) ... \u001b[?25l\u001b[?25hdone\n",
            "  Created wheel for np-utils: filename=np_utils-0.5.12.1-cp37-none-any.whl size=57133 sha256=588e55176a6ce3b6a18c5b48c9b83c26c6a42142985c61aca53030fc385f10b2\n",
            "  Stored in directory: /root/.cache/pip/wheels/92/4b/81/206efd0d01330a96f3aebe5021d2d5f0b264b7ade827c306ef\n",
            "Successfully built np-utils\n",
            "Installing collected packages: np-utils\n",
            "Successfully installed np-utils-0.5.12.1\n"
          ],
          "name": "stdout"
        }
      ]
    },
    {
      "cell_type": "code",
      "metadata": {
        "id": "Eu1UOmXOKeDZ"
      },
      "source": [
        "\n",
        "from keras.models import Sequential\n",
        "from keras.layers import Dense, Flatten, Dropout\n",
        "from keras.utils.np_utils import to_categorical"
      ],
      "execution_count": 36,
      "outputs": []
    },
    {
      "cell_type": "code",
      "metadata": {
        "id": "0wUUTwW_KgxO"
      },
      "source": [
        "model = Sequential()\n",
        "model.add(Dense(32, activation = 'relu', input_dim = X_train.shape[1]))\n",
        "model.add(Dropout(rate = 0.25))\n",
        "model.add(Dense(1, activation = 'sigmoid'))"
      ],
      "execution_count": 37,
      "outputs": []
    },
    {
      "cell_type": "code",
      "metadata": {
        "id": "5Vhv0EPgK20B"
      },
      "source": [
        "model.compile(\n",
        "                loss = 'binary_crossentropy',\n",
        "                optimizer = 'adam',\n",
        "                metrics = ['accuracy'])"
      ],
      "execution_count": 38,
      "outputs": []
    },
    {
      "cell_type": "code",
      "metadata": {
        "colab": {
          "base_uri": "https://localhost:8080/"
        },
        "id": "oTvxs70eK6RZ",
        "outputId": "328aa9b9-ec40-42a1-c8c6-6e097b39c4cf"
      },
      "source": [
        "model.fit(X_train, y_train, batch_size = 32, epochs= 5, verbose = 1)\n"
      ],
      "execution_count": 39,
      "outputs": [
        {
          "output_type": "stream",
          "text": [
            "Epoch 1/5\n",
            "2285/2285 [==============================] - 21s 3ms/step - loss: 0.3255 - accuracy: 0.8668\n",
            "Epoch 2/5\n",
            "2285/2285 [==============================] - 6s 3ms/step - loss: 0.1730 - accuracy: 0.9432\n",
            "Epoch 3/5\n",
            "2285/2285 [==============================] - 6s 3ms/step - loss: 0.1423 - accuracy: 0.9547\n",
            "Epoch 4/5\n",
            "2285/2285 [==============================] - 6s 3ms/step - loss: 0.1336 - accuracy: 0.9568\n",
            "Epoch 5/5\n",
            "2285/2285 [==============================] - 6s 3ms/step - loss: 0.1208 - accuracy: 0.9629\n"
          ],
          "name": "stdout"
        },
        {
          "output_type": "execute_result",
          "data": {
            "text/plain": [
              "<keras.callbacks.History at 0x7f7476797850>"
            ]
          },
          "metadata": {
            "tags": []
          },
          "execution_count": 39
        }
      ]
    },
    {
      "cell_type": "code",
      "metadata": {
        "id": "MqYP5V3JK8UH"
      },
      "source": [
        "from sklearn.metrics import roc_auc_score, accuracy_score, precision_score, recall_score\n",
        "def calc_prevalence(y_actual):\n",
        "    return (sum(y_actual)/len(y_actual))\n",
        "def calc_specificity(y_actual, y_pred, thresh):\n",
        "    # calculates specificity\n",
        "    return sum((y_pred < thresh) & (y_actual == 0)) /sum(y_actual ==0)\n",
        "def print_report(y_actual, y_pred, thresh):\n",
        "    \n",
        "    auc = roc_auc_score(y_actual, y_pred)\n",
        "    accuracy = accuracy_score(y_actual, (y_pred > thresh))\n",
        "    recall = recall_score(y_actual, (y_pred > thresh))\n",
        "    precision = precision_score(y_actual, (y_pred > thresh))\n",
        "    specificity = calc_specificity(y_actual, y_pred, thresh)\n",
        "    print('AUC:%.3f'%auc)\n",
        "    print('accuracy:%.3f'%accuracy)\n",
        "    print('recall:%.3f'%recall)\n",
        "    print('precision:%.3f'%precision)\n",
        "    print('specificity:%.3f'%specificity)\n",
        "    print('prevalence:%.3f'%calc_prevalence(y_actual))\n",
        "    print(' ')\n",
        "    return auc, accuracy, recall, precision, specificity"
      ],
      "execution_count": 40,
      "outputs": []
    },
    {
      "cell_type": "code",
      "metadata": {
        "colab": {
          "base_uri": "https://localhost:8080/"
        },
        "id": "gv9Rm5InLOCt",
        "outputId": "07ab531f-2953-4c3c-ee80-b41e812d4996"
      },
      "source": [
        "y_train_preds_dense = model.predict_proba(X_train,verbose = 1)\n",
        "y_valid_preds_dense = model.predict_proba(X_valid,verbose = 1)"
      ],
      "execution_count": 41,
      "outputs": [
        {
          "output_type": "stream",
          "text": [
            "/usr/local/lib/python3.7/dist-packages/keras/engine/sequential.py:425: UserWarning: `model.predict_proba()` is deprecated and will be removed after 2021-01-01. Please use `model.predict()` instead.\n",
            "  warnings.warn('`model.predict_proba()` is deprecated and '\n"
          ],
          "name": "stderr"
        },
        {
          "output_type": "stream",
          "text": [
            "2285/2285 [==============================] - 3s 1ms/step\n",
            "1126/1126 [==============================] - 2s 1ms/step\n"
          ],
          "name": "stdout"
        }
      ]
    },
    {
      "cell_type": "code",
      "metadata": {
        "colab": {
          "base_uri": "https://localhost:8080/"
        },
        "id": "Ee8Zz7GMLQkJ",
        "outputId": "9a3f68ae-afcc-44c7-9417-52a8c35a0ae0"
      },
      "source": [
        "thresh = (sum(y_train)/len(y_train))[0]\n",
        "thresh"
      ],
      "execution_count": 42,
      "outputs": [
        {
          "output_type": "execute_result",
          "data": {
            "text/plain": [
              "0.3147641457808909"
            ]
          },
          "metadata": {
            "tags": []
          },
          "execution_count": 42
        }
      ]
    },
    {
      "cell_type": "code",
      "metadata": {
        "colab": {
          "base_uri": "https://localhost:8080/"
        },
        "id": "juG9QEXULVQf",
        "outputId": "91e5aa56-2e30-49ff-fc51-a3626bb6184a"
      },
      "source": [
        "print('Train');\n",
        "print_report(y_train, y_train_preds_dense, thresh)\n",
        "print('Valid');\n",
        "print_report(y_valid, y_valid_preds_dense, thresh);"
      ],
      "execution_count": 43,
      "outputs": [
        {
          "output_type": "stream",
          "text": [
            "Train\n",
            "AUC:0.992\n",
            "accuracy:0.973\n",
            "recall:0.949\n",
            "precision:0.966\n",
            "specificity:0.984\n",
            "prevalence:0.315\n",
            " \n",
            "Valid\n",
            "AUC:0.989\n",
            "accuracy:0.967\n",
            "recall:0.939\n",
            "precision:0.955\n",
            "specificity:0.980\n",
            "prevalence:0.314\n",
            " \n"
          ],
          "name": "stdout"
        }
      ]
    },
    {
      "cell_type": "code",
      "metadata": {
        "colab": {
          "base_uri": "https://localhost:8080/"
        },
        "id": "dWlKHP_CLXin",
        "outputId": "3cdbaabd-c8d0-41d2-d9b1-44d680dddf4c"
      },
      "source": [
        "import random\n",
        "random.seed( 42 )\n",
        "pts_train = random.sample(pts, 36)\n",
        "pts_valid = [pt for pt in pts if pt not in pts_train]\n",
        "print(len(pts_train), len(pts_valid))"
      ],
      "execution_count": 44,
      "outputs": [
        {
          "output_type": "stream",
          "text": [
            "36 12\n"
          ],
          "name": "stdout"
        }
      ]
    },
    {
      "cell_type": "code",
      "metadata": {
        "colab": {
          "base_uri": "https://localhost:8080/"
        },
        "id": "WPtJHrXxLbQI",
        "outputId": "a57ecdef-ad9a-4dd5-ec90-0d2ed32b2e49"
      },
      "source": [
        "X_train, y_train, sym_train = make_dataset(pts_train, num_sec, fs, abnormal)\n",
        "X_valid, y_valid, sym_valid = make_dataset(pts_valid, num_sec, fs, abnormal)\n",
        "print(X_train.shape, y_train.shape, len(sym_train))\n",
        "print(X_valid.shape, y_valid.shape, len(sym_valid))"
      ],
      "execution_count": 45,
      "outputs": [
        {
          "output_type": "stream",
          "text": [
            "(80614, 2160) (80614, 1) 80614\n",
            "(28485, 2160) (28485, 1) 28485\n"
          ],
          "name": "stdout"
        }
      ]
    },
    {
      "cell_type": "code",
      "metadata": {
        "colab": {
          "base_uri": "https://localhost:8080/"
        },
        "id": "aI_3JvxgLhW3",
        "outputId": "521584b8-345f-484f-a101-822f6daec25b"
      },
      "source": [
        "model = Sequential()\n",
        "model.add(Dense(32, activation = 'relu', input_dim = X_train.shape[1]))\n",
        "model.add(Dropout(rate = 0.25))\n",
        "model.add(Dense(1, activation = 'sigmoid'))\n",
        "\n",
        "# compile the model - use categorical crossentropy, and the adam optimizer\n",
        "model.compile(\n",
        "                loss = 'binary_crossentropy',\n",
        "                optimizer = 'adam',\n",
        "                metrics = ['accuracy'])\n",
        "\n",
        "model.fit(X_train, y_train, batch_size = 32, epochs= 5, verbose = 1)"
      ],
      "execution_count": 46,
      "outputs": [
        {
          "output_type": "stream",
          "text": [
            "Epoch 1/5\n",
            "2520/2520 [==============================] - 8s 3ms/step - loss: 0.3091 - accuracy: 0.8803\n",
            "Epoch 2/5\n",
            "2520/2520 [==============================] - 7s 3ms/step - loss: 0.1473 - accuracy: 0.9546\n",
            "Epoch 3/5\n",
            "2520/2520 [==============================] - 7s 3ms/step - loss: 0.1249 - accuracy: 0.9629\n",
            "Epoch 4/5\n",
            "2520/2520 [==============================] - 7s 3ms/step - loss: 0.1183 - accuracy: 0.9658\n",
            "Epoch 5/5\n",
            "2520/2520 [==============================] - 7s 3ms/step - loss: 0.1111 - accuracy: 0.9680\n"
          ],
          "name": "stdout"
        },
        {
          "output_type": "execute_result",
          "data": {
            "text/plain": [
              "<keras.callbacks.History at 0x7f747555a050>"
            ]
          },
          "metadata": {
            "tags": []
          },
          "execution_count": 46
        }
      ]
    },
    {
      "cell_type": "code",
      "metadata": {
        "colab": {
          "base_uri": "https://localhost:8080/"
        },
        "id": "gHOptOj7LqiA",
        "outputId": "ef78d79a-616b-4014-d37e-2484f58c35e8"
      },
      "source": [
        "y_train_preds_dense = model.predict_proba(X_train,verbose = 1)\n",
        "y_valid_preds_dense = model.predict_proba(X_valid,verbose = 1)"
      ],
      "execution_count": 47,
      "outputs": [
        {
          "output_type": "stream",
          "text": [
            "/usr/local/lib/python3.7/dist-packages/keras/engine/sequential.py:425: UserWarning: `model.predict_proba()` is deprecated and will be removed after 2021-01-01. Please use `model.predict()` instead.\n",
            "  warnings.warn('`model.predict_proba()` is deprecated and '\n"
          ],
          "name": "stderr"
        },
        {
          "output_type": "stream",
          "text": [
            "2520/2520 [==============================] - 3s 1ms/step\n",
            "891/891 [==============================] - 1s 1ms/step\n"
          ],
          "name": "stdout"
        }
      ]
    },
    {
      "cell_type": "code",
      "metadata": {
        "colab": {
          "base_uri": "https://localhost:8080/"
        },
        "id": "ZURmNFzhL3ZC",
        "outputId": "d17e6fe9-7108-41b5-eeca-45ba0691e14f"
      },
      "source": [
        "thresh = (sum(y_train)/len(y_train))[0]\n",
        "thresh"
      ],
      "execution_count": 48,
      "outputs": [
        {
          "output_type": "execute_result",
          "data": {
            "text/plain": [
              "0.29906715955045027"
            ]
          },
          "metadata": {
            "tags": []
          },
          "execution_count": 48
        }
      ]
    },
    {
      "cell_type": "code",
      "metadata": {
        "colab": {
          "base_uri": "https://localhost:8080/"
        },
        "id": "nKbHudfwL7TM",
        "outputId": "a1bad7a2-4b19-4f20-a0cf-66bc04835ef5"
      },
      "source": [
        "print('Train');\n",
        "print_report(y_train, y_train_preds_dense, thresh)\n",
        "print('Valid');\n",
        "print_report(y_valid, y_valid_preds_dense, thresh);"
      ],
      "execution_count": 49,
      "outputs": [
        {
          "output_type": "stream",
          "text": [
            "Train\n",
            "AUC:0.993\n",
            "accuracy:0.976\n",
            "recall:0.956\n",
            "precision:0.964\n",
            "specificity:0.985\n",
            "prevalence:0.299\n",
            " \n",
            "Valid\n",
            "AUC:0.856\n",
            "accuracy:0.757\n",
            "recall:0.429\n",
            "precision:0.800\n",
            "specificity:0.940\n",
            "prevalence:0.358\n",
            " \n"
          ],
          "name": "stdout"
        }
      ]
    },
    {
      "cell_type": "code",
      "metadata": {
        "colab": {
          "base_uri": "https://localhost:8080/"
        },
        "id": "-lOXTc4RL9ak",
        "outputId": "c7829079-5c5a-4989-c083-e26e8530b946"
      },
      "source": [
        "aucs_train = []\n",
        "aucs_valid = []\n",
        "\n",
        "n_pts = [1,18,36]\n",
        "for n_pt in n_pts:\n",
        "    \n",
        "    print(n_pt)\n",
        "    pts_sub = pts_train[:n_pt]\n",
        "    X_sub, y_sub, sym_sub = make_dataset(pts_sub, num_sec, fs,abnormal)\n",
        "\n",
        "    # build the same model\n",
        "    # lets test out relu (a different activation function) and add drop out (for regularization)\n",
        "    model = Sequential()\n",
        "    model.add(Dense(32, activation = 'relu', input_dim = X_train.shape[1]))\n",
        "    model.add(Dropout(rate = 0.25))\n",
        "    model.add(Dense(1, activation = 'sigmoid'))\n",
        "\n",
        "    # compile the model - use categorical crossentropy, and the adam optimizer\n",
        "    model.compile(\n",
        "                    loss = 'binary_crossentropy',\n",
        "                    optimizer = 'adam',\n",
        "                    metrics = ['accuracy'])\n",
        "\n",
        "    model.fit(X_sub, y_sub, batch_size = 32, epochs= 5, verbose = 0)\n",
        "    y_sub_preds_dense = model.predict_proba(X_sub,verbose = 0)\n",
        "    y_valid_preds_dense = model.predict_proba(X_valid,verbose = 0)\n",
        "    \n",
        "    auc_train = roc_auc_score(y_sub, y_sub_preds_dense)\n",
        "    auc_valid = roc_auc_score(y_valid, y_valid_preds_dense)\n",
        "    print('-',auc_train, auc_valid)\n",
        "    aucs_train.append(auc_train)\n",
        "    aucs_valid.append(auc_valid)"
      ],
      "execution_count": 50,
      "outputs": [
        {
          "output_type": "stream",
          "text": [
            "1\n"
          ],
          "name": "stdout"
        },
        {
          "output_type": "stream",
          "text": [
            "/usr/local/lib/python3.7/dist-packages/keras/engine/sequential.py:425: UserWarning: `model.predict_proba()` is deprecated and will be removed after 2021-01-01. Please use `model.predict()` instead.\n",
            "  warnings.warn('`model.predict_proba()` is deprecated and '\n"
          ],
          "name": "stderr"
        },
        {
          "output_type": "stream",
          "text": [
            "- 0.9267985093363169 0.6900856480693186\n",
            "18\n"
          ],
          "name": "stdout"
        },
        {
          "output_type": "stream",
          "text": [
            "/usr/local/lib/python3.7/dist-packages/keras/engine/sequential.py:425: UserWarning: `model.predict_proba()` is deprecated and will be removed after 2021-01-01. Please use `model.predict()` instead.\n",
            "  warnings.warn('`model.predict_proba()` is deprecated and '\n"
          ],
          "name": "stderr"
        },
        {
          "output_type": "stream",
          "text": [
            "- 0.9948597681618804 0.7569146289240617\n",
            "36\n"
          ],
          "name": "stdout"
        },
        {
          "output_type": "stream",
          "text": [
            "/usr/local/lib/python3.7/dist-packages/keras/engine/sequential.py:425: UserWarning: `model.predict_proba()` is deprecated and will be removed after 2021-01-01. Please use `model.predict()` instead.\n",
            "  warnings.warn('`model.predict_proba()` is deprecated and '\n"
          ],
          "name": "stderr"
        },
        {
          "output_type": "stream",
          "text": [
            "- 0.9927911234221474 0.8665524325944788\n"
          ],
          "name": "stdout"
        }
      ]
    },
    {
      "cell_type": "code",
      "metadata": {
        "colab": {
          "base_uri": "https://localhost:8080/",
          "height": 279
        },
        "id": "K_Pdntg3MA9S",
        "outputId": "30c6af5a-a7cd-42ab-da90-01ab581777d5"
      },
      "source": [
        "plt.plot(n_pts, aucs_train, 'o-',label = 'Train')\n",
        "plt.plot(n_pts, aucs_valid, 'o-',label = 'Valid')\n",
        "plt.xlabel('Number Training Pts')\n",
        "plt.ylabel('AUC')\n",
        "plt.legend(bbox_to_anchor = (1.04,1), loc = 'upper left')\n",
        "plt.show()"
      ],
      "execution_count": 51,
      "outputs": [
        {
          "output_type": "display_data",
          "data": {
            "image/png": "[encoded data removed]",
            "text/plain": [
              "<Figure size 432x288 with 1 Axes>"
            ]
          },
          "metadata": {
            "tags": [],
            "needs_background": "light"
          }
        }
      ]
    },
    {
      "cell_type": "code",
      "metadata": {
        "colab": {
          "base_uri": "https://localhost:8080/"
        },
        "id": "rSN9XiUEMkBJ",
        "outputId": "dff2a964-832f-4b62-bbc4-c7c568fd19da"
      },
      "source": [
        "# reshape input to be [samples, time steps, features = 1]\n",
        "X_train_cnn = np.reshape(X_train, (X_train.shape[0], X_train.shape[1], 1))\n",
        "X_valid_cnn = np.reshape(X_valid, (X_valid.shape[0], X_valid.shape[1], 1))\n",
        "\n",
        "print(X_train_cnn.shape)\n",
        "print(X_valid_cnn.shape)"
      ],
      "execution_count": 52,
      "outputs": [
        {
          "output_type": "stream",
          "text": [
            "(80614, 2160, 1)\n",
            "(28485, 2160, 1)\n"
          ],
          "name": "stdout"
        }
      ]
    },
    {
      "cell_type": "code",
      "metadata": {
        "id": "riVEqBllMoHp"
      },
      "source": [
        "from keras.layers import Conv1D"
      ],
      "execution_count": 53,
      "outputs": []
    },
    {
      "cell_type": "code",
      "metadata": {
        "id": "rnzpeqgdMq_0"
      },
      "source": [
        "model = Sequential()\n",
        "model.add(Conv1D(filters = 128, kernel_size = 5, activation = 'relu', input_shape = (2160,1)))\n",
        "model.add(Dropout(rate = 0.25))\n",
        "model.add(Flatten())\n",
        "model.add(Dense(1, activation = 'sigmoid'))\n",
        "\n",
        "# compile the model - use categorical crossentropy, and the adam optimizer\n",
        "model.compile(\n",
        "                loss = 'binary_crossentropy',\n",
        "                optimizer = 'adam',\n",
        "                metrics = ['accuracy'])"
      ],
      "execution_count": 54,
      "outputs": []
    },
    {
      "cell_type": "code",
      "metadata": {
        "colab": {
          "base_uri": "https://localhost:8080/"
        },
        "id": "kOvlF0gWMtgA",
        "outputId": "19e28084-c652-4b1e-c546-3968d7247def"
      },
      "source": [
        "model.fit(X_train_cnn, y_train, batch_size = 32, epochs= 2, verbose = 1)"
      ],
      "execution_count": 55,
      "outputs": [
        {
          "output_type": "stream",
          "text": [
            "Epoch 1/2\n",
            "2520/2520 [==============================] - 422s 166ms/step - loss: 0.2774 - accuracy: 0.8977\n",
            "Epoch 2/2\n",
            "2520/2520 [==============================] - 423s 168ms/step - loss: 0.1207 - accuracy: 0.9642\n"
          ],
          "name": "stdout"
        },
        {
          "output_type": "execute_result",
          "data": {
            "text/plain": [
              "<keras.callbacks.History at 0x7f746edb51d0>"
            ]
          },
          "metadata": {
            "tags": []
          },
          "execution_count": 55
        }
      ]
    },
    {
      "cell_type": "code",
      "metadata": {
        "colab": {
          "base_uri": "https://localhost:8080/"
        },
        "id": "9ajEVI_oMv2J",
        "outputId": "4761043b-a428-4726-bad7-75b3d4db5b54"
      },
      "source": [
        "y_train_preds_cnn = model.predict_proba(X_train_cnn,verbose = 1)\n",
        "y_valid_preds_cnn = model.predict_proba(X_valid_cnn,verbose = 1)"
      ],
      "execution_count": 56,
      "outputs": [
        {
          "output_type": "stream",
          "text": [
            "/usr/local/lib/python3.7/dist-packages/keras/engine/sequential.py:425: UserWarning: `model.predict_proba()` is deprecated and will be removed after 2021-01-01. Please use `model.predict()` instead.\n",
            "  warnings.warn('`model.predict_proba()` is deprecated and '\n"
          ],
          "name": "stderr"
        },
        {
          "output_type": "stream",
          "text": [
            "2520/2520 [==============================] - 66s 26ms/step\n",
            "891/891 [==============================] - 23s 26ms/step\n"
          ],
          "name": "stdout"
        }
      ]
    },
    {
      "cell_type": "code",
      "metadata": {
        "colab": {
          "base_uri": "https://localhost:8080/"
        },
        "id": "rsDqqlrOQMFE",
        "outputId": "8b3845c3-df33-4f97-d75a-ecd2f10fffd9"
      },
      "source": [
        "print('Train');\n",
        "print_report(y_train, y_train_preds_cnn, thresh)\n",
        "print('Valid');\n",
        "print_report(y_valid, y_valid_preds_cnn, thresh);"
      ],
      "execution_count": 57,
      "outputs": [
        {
          "output_type": "stream",
          "text": [
            "Train\n",
            "AUC:0.993\n",
            "accuracy:0.971\n",
            "recall:0.959\n",
            "precision:0.946\n",
            "specificity:0.977\n",
            "prevalence:0.299\n",
            " \n",
            "Valid\n",
            "AUC:0.896\n",
            "accuracy:0.814\n",
            "recall:0.714\n",
            "precision:0.753\n",
            "specificity:0.870\n",
            "prevalence:0.358\n",
            " \n"
          ],
          "name": "stdout"
        }
      ]
    },
    {
      "cell_type": "code",
      "metadata": {
        "id": "ns9Gu7GIQpYM"
      },
      "source": [
        "\n",
        "from keras.layers import Bidirectional, LSTM"
      ],
      "execution_count": 58,
      "outputs": []
    },
    {
      "cell_type": "code",
      "metadata": {
        "id": "QzZHNfTQQsC2"
      },
      "source": [
        "model = Sequential()\n",
        "model.add(Bidirectional(LSTM(64, input_shape=(X_train_cnn.shape[1], X_train_cnn.shape[2]))))\n",
        "model.add(Dropout(rate = 0.25))\n",
        "model.add(Dense(1, activation = 'sigmoid'))\n",
        "model.compile(\n",
        "                loss = 'binary_crossentropy',\n",
        "                optimizer = 'adam',\n",
        "                metrics = ['accuracy'])"
      ],
      "execution_count": 59,
      "outputs": []
    },
    {
      "cell_type": "code",
      "metadata": {
        "colab": {
          "base_uri": "https://localhost:8080/"
        },
        "id": "-TbaYRgEQuh0",
        "outputId": "2cf213fb-c2b0-45a4-d297-8756d3762e11"
      },
      "source": [
        "model.fit(X_train_cnn[:10000], y_train[:10000], batch_size = 32, epochs= 1, verbose = 1)"
      ],
      "execution_count": 60,
      "outputs": [
        {
          "output_type": "stream",
          "text": [
            "313/313 [==============================] - 555s 2s/step - loss: 0.6234 - accuracy: 0.6378\n"
          ],
          "name": "stdout"
        },
        {
          "output_type": "execute_result",
          "data": {
            "text/plain": [
              "<keras.callbacks.History at 0x7f746ec8c0d0>"
            ]
          },
          "metadata": {
            "tags": []
          },
          "execution_count": 60
        }
      ]
    },
    {
      "cell_type": "code",
      "metadata": {
        "colab": {
          "base_uri": "https://localhost:8080/"
        },
        "id": "3vWpuQbWQxIB",
        "outputId": "7927de17-3898-40b1-b054-c4961ccd7f19"
      },
      "source": [
        "y_train_preds_lstm = model.predict_proba(X_train_cnn[:10000],verbose = 1)\n",
        "y_valid_preds_lstm = model.predict_proba(X_valid_cnn,verbose = 1)"
      ],
      "execution_count": 61,
      "outputs": [
        {
          "output_type": "stream",
          "text": [
            "/usr/local/lib/python3.7/dist-packages/keras/engine/sequential.py:425: UserWarning: `model.predict_proba()` is deprecated and will be removed after 2021-01-01. Please use `model.predict()` instead.\n",
            "  warnings.warn('`model.predict_proba()` is deprecated and '\n"
          ],
          "name": "stderr"
        },
        {
          "output_type": "stream",
          "text": [
            "313/313 [==============================] - 108s 341ms/step\n",
            "891/891 [==============================] - 305s 342ms/step\n"
          ],
          "name": "stdout"
        }
      ]
    },
    {
      "cell_type": "code",
      "metadata": {
        "colab": {
          "base_uri": "https://localhost:8080/"
        },
        "id": "nwWj54IdTXlD",
        "outputId": "1a42c216-dd1e-44e0-da6e-00f0c8a0b0fd"
      },
      "source": [
        "print('Train');\n",
        "print_report(y_train[:10000], y_train_preds_lstm, thresh)\n",
        "print('Valid');\n",
        "print_report(y_valid, y_valid_preds_lstm, thresh);"
      ],
      "execution_count": 62,
      "outputs": [
        {
          "output_type": "stream",
          "text": [
            "Train\n",
            "AUC:0.809\n",
            "accuracy:0.547\n",
            "recall:0.983\n",
            "precision:0.520\n",
            "specificity:0.131\n",
            "prevalence:0.489\n",
            " \n",
            "Valid\n",
            "AUC:0.424\n",
            "accuracy:0.358\n",
            "recall:0.999\n",
            "precision:0.358\n",
            "specificity:0.001\n",
            "prevalence:0.358\n",
            " \n"
          ],
          "name": "stdout"
        }
      ]
    },
    {
      "cell_type": "code",
      "metadata": {
        "colab": {
          "base_uri": "https://localhost:8080/",
          "height": 295
        },
        "id": "AB1N6nsUaRCV",
        "outputId": "57828523-2122-4f2c-ac96-e578572c861f"
      },
      "source": [
        "from sklearn.metrics import roc_curve, roc_auc_score\n",
        "\n",
        "\n",
        "fpr_valid_cnn, tpr_valid_cnn, t_valid_cnn = roc_curve(y_valid, y_valid_preds_cnn)\n",
        "auc_valid_cnn = roc_auc_score(y_valid, y_valid_preds_cnn)\n",
        "\n",
        "fpr_valid_dense, tpr_valid_dense, t_valid_dense = roc_curve(y_valid, y_valid_preds_dense)\n",
        "auc_valid_dense = roc_auc_score(y_valid, y_valid_preds_dense)\n",
        "\n",
        "fpr_valid_lstm, tpr_valid_lstm, t_valid_lstm = roc_curve(y_valid, y_valid_preds_lstm)\n",
        "auc_valid_lstm = roc_auc_score(y_valid, y_valid_preds_lstm)\n",
        "\n",
        "plt.plot(fpr_valid_cnn, tpr_valid_cnn, 'g-', label = 'CNN AUC:%.3f'%auc_valid_cnn)\n",
        "plt.plot(fpr_valid_dense, tpr_valid_dense, 'r-', label = 'Dense AUC:%.3f'%auc_valid_dense)\n",
        "plt.plot(fpr_valid_lstm, tpr_valid_lstm, 'b-', label = 'LSTM AUC:%.3f'%auc_valid_lstm)\n",
        "\n",
        "plt.plot([0,1],[0,1], 'k--')\n",
        "plt.xlabel('FPR')\n",
        "plt.ylabel('TPR')\n",
        "plt.legend(bbox_to_anchor = (1.04,1), loc = 'upper left')\n",
        "plt.title('Validation Set')\n",
        "plt.show()"
      ],
      "execution_count": 63,
      "outputs": [
        {
          "output_type": "display_data",
          "data": {
            "image/png": "[encoded data removed]",
            "text/plain": [
              "<Figure size 432x288 with 1 Axes>"
            ]
          },
          "metadata": {
            "tags": [],
            "needs_background": "light"
          }
        }
      ]
    },
    {
      "cell_type": "code",
      "metadata": {
        "id": "zAKyjSfjaW5O"
      },
      "source": [
        ""
      ],
      "execution_count": null,
      "outputs": []
    }
  ]
}